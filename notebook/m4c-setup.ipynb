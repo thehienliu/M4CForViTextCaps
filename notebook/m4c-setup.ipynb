{
  "nbformat": 4,
  "nbformat_minor": 0,
  "metadata": {
    "colab": {
      "provenance": [],
      "collapsed_sections": [
        "lw56Y0epEX6m"
      ],
      "gpuType": "T4",
      "toc_visible": true
    },
    "kernelspec": {
      "name": "python3",
      "display_name": "Python 3"
    },
    "language_info": {
      "name": "python"
    },
    "widgets": {
      "application/vnd.jupyter.widget-state+json": {
        "262c5d1733e545f4b81b58f7a780a8bc": {
          "model_module": "@jupyter-widgets/controls",
          "model_name": "HBoxModel",
          "model_module_version": "1.5.0",
          "state": {
            "_dom_classes": [],
            "_model_module": "@jupyter-widgets/controls",
            "_model_module_version": "1.5.0",
            "_model_name": "HBoxModel",
            "_view_count": null,
            "_view_module": "@jupyter-widgets/controls",
            "_view_module_version": "1.5.0",
            "_view_name": "HBoxView",
            "box_style": "",
            "children": [
              "IPY_MODEL_3a312f5b7b9647cdb601895b5d809890",
              "IPY_MODEL_4fe60b6b69da464195f4090f1fe5387d",
              "IPY_MODEL_2ce556a38e964817b7d9fb43ab57a11b"
            ],
            "layout": "IPY_MODEL_0f2d87fd72284668b80cf354cddd3ee2"
          }
        },
        "3a312f5b7b9647cdb601895b5d809890": {
          "model_module": "@jupyter-widgets/controls",
          "model_name": "HTMLModel",
          "model_module_version": "1.5.0",
          "state": {
            "_dom_classes": [],
            "_model_module": "@jupyter-widgets/controls",
            "_model_module_version": "1.5.0",
            "_model_name": "HTMLModel",
            "_view_count": null,
            "_view_module": "@jupyter-widgets/controls",
            "_view_module_version": "1.5.0",
            "_view_name": "HTMLView",
            "description": "",
            "description_tooltip": null,
            "layout": "IPY_MODEL_32e86099db4f49508134521c4ea02ad0",
            "placeholder": "​",
            "style": "IPY_MODEL_c5a6263a53ec4eba97f79424ea42a2c8",
            "value": "100%"
          }
        },
        "4fe60b6b69da464195f4090f1fe5387d": {
          "model_module": "@jupyter-widgets/controls",
          "model_name": "FloatProgressModel",
          "model_module_version": "1.5.0",
          "state": {
            "_dom_classes": [],
            "_model_module": "@jupyter-widgets/controls",
            "_model_module_version": "1.5.0",
            "_model_name": "FloatProgressModel",
            "_view_count": null,
            "_view_module": "@jupyter-widgets/controls",
            "_view_module_version": "1.5.0",
            "_view_name": "ProgressView",
            "bar_style": "success",
            "description": "",
            "description_tooltip": null,
            "layout": "IPY_MODEL_ddd950acce51496c8c58b008abf637f7",
            "max": 4,
            "min": 0,
            "orientation": "horizontal",
            "style": "IPY_MODEL_83554696b3e64cdd8060f7a229ca34fe",
            "value": 4
          }
        },
        "2ce556a38e964817b7d9fb43ab57a11b": {
          "model_module": "@jupyter-widgets/controls",
          "model_name": "HTMLModel",
          "model_module_version": "1.5.0",
          "state": {
            "_dom_classes": [],
            "_model_module": "@jupyter-widgets/controls",
            "_model_module_version": "1.5.0",
            "_model_name": "HTMLModel",
            "_view_count": null,
            "_view_module": "@jupyter-widgets/controls",
            "_view_module_version": "1.5.0",
            "_view_name": "HTMLView",
            "description": "",
            "description_tooltip": null,
            "layout": "IPY_MODEL_38322d6e4bb6467db953471ba1731985",
            "placeholder": "​",
            "style": "IPY_MODEL_593de7f690c14cbdb709a08c2b3b6cda",
            "value": " 4/4 [00:21&lt;00:00,  4.88s/it]"
          }
        },
        "0f2d87fd72284668b80cf354cddd3ee2": {
          "model_module": "@jupyter-widgets/base",
          "model_name": "LayoutModel",
          "model_module_version": "1.2.0",
          "state": {
            "_model_module": "@jupyter-widgets/base",
            "_model_module_version": "1.2.0",
            "_model_name": "LayoutModel",
            "_view_count": null,
            "_view_module": "@jupyter-widgets/base",
            "_view_module_version": "1.2.0",
            "_view_name": "LayoutView",
            "align_content": null,
            "align_items": null,
            "align_self": null,
            "border": null,
            "bottom": null,
            "display": null,
            "flex": null,
            "flex_flow": null,
            "grid_area": null,
            "grid_auto_columns": null,
            "grid_auto_flow": null,
            "grid_auto_rows": null,
            "grid_column": null,
            "grid_gap": null,
            "grid_row": null,
            "grid_template_areas": null,
            "grid_template_columns": null,
            "grid_template_rows": null,
            "height": null,
            "justify_content": null,
            "justify_items": null,
            "left": null,
            "margin": null,
            "max_height": null,
            "max_width": null,
            "min_height": null,
            "min_width": null,
            "object_fit": null,
            "object_position": null,
            "order": null,
            "overflow": null,
            "overflow_x": null,
            "overflow_y": null,
            "padding": null,
            "right": null,
            "top": null,
            "visibility": null,
            "width": null
          }
        },
        "32e86099db4f49508134521c4ea02ad0": {
          "model_module": "@jupyter-widgets/base",
          "model_name": "LayoutModel",
          "model_module_version": "1.2.0",
          "state": {
            "_model_module": "@jupyter-widgets/base",
            "_model_module_version": "1.2.0",
            "_model_name": "LayoutModel",
            "_view_count": null,
            "_view_module": "@jupyter-widgets/base",
            "_view_module_version": "1.2.0",
            "_view_name": "LayoutView",
            "align_content": null,
            "align_items": null,
            "align_self": null,
            "border": null,
            "bottom": null,
            "display": null,
            "flex": null,
            "flex_flow": null,
            "grid_area": null,
            "grid_auto_columns": null,
            "grid_auto_flow": null,
            "grid_auto_rows": null,
            "grid_column": null,
            "grid_gap": null,
            "grid_row": null,
            "grid_template_areas": null,
            "grid_template_columns": null,
            "grid_template_rows": null,
            "height": null,
            "justify_content": null,
            "justify_items": null,
            "left": null,
            "margin": null,
            "max_height": null,
            "max_width": null,
            "min_height": null,
            "min_width": null,
            "object_fit": null,
            "object_position": null,
            "order": null,
            "overflow": null,
            "overflow_x": null,
            "overflow_y": null,
            "padding": null,
            "right": null,
            "top": null,
            "visibility": null,
            "width": null
          }
        },
        "c5a6263a53ec4eba97f79424ea42a2c8": {
          "model_module": "@jupyter-widgets/controls",
          "model_name": "DescriptionStyleModel",
          "model_module_version": "1.5.0",
          "state": {
            "_model_module": "@jupyter-widgets/controls",
            "_model_module_version": "1.5.0",
            "_model_name": "DescriptionStyleModel",
            "_view_count": null,
            "_view_module": "@jupyter-widgets/base",
            "_view_module_version": "1.2.0",
            "_view_name": "StyleView",
            "description_width": ""
          }
        },
        "ddd950acce51496c8c58b008abf637f7": {
          "model_module": "@jupyter-widgets/base",
          "model_name": "LayoutModel",
          "model_module_version": "1.2.0",
          "state": {
            "_model_module": "@jupyter-widgets/base",
            "_model_module_version": "1.2.0",
            "_model_name": "LayoutModel",
            "_view_count": null,
            "_view_module": "@jupyter-widgets/base",
            "_view_module_version": "1.2.0",
            "_view_name": "LayoutView",
            "align_content": null,
            "align_items": null,
            "align_self": null,
            "border": null,
            "bottom": null,
            "display": null,
            "flex": null,
            "flex_flow": null,
            "grid_area": null,
            "grid_auto_columns": null,
            "grid_auto_flow": null,
            "grid_auto_rows": null,
            "grid_column": null,
            "grid_gap": null,
            "grid_row": null,
            "grid_template_areas": null,
            "grid_template_columns": null,
            "grid_template_rows": null,
            "height": null,
            "justify_content": null,
            "justify_items": null,
            "left": null,
            "margin": null,
            "max_height": null,
            "max_width": null,
            "min_height": null,
            "min_width": null,
            "object_fit": null,
            "object_position": null,
            "order": null,
            "overflow": null,
            "overflow_x": null,
            "overflow_y": null,
            "padding": null,
            "right": null,
            "top": null,
            "visibility": null,
            "width": null
          }
        },
        "83554696b3e64cdd8060f7a229ca34fe": {
          "model_module": "@jupyter-widgets/controls",
          "model_name": "ProgressStyleModel",
          "model_module_version": "1.5.0",
          "state": {
            "_model_module": "@jupyter-widgets/controls",
            "_model_module_version": "1.5.0",
            "_model_name": "ProgressStyleModel",
            "_view_count": null,
            "_view_module": "@jupyter-widgets/base",
            "_view_module_version": "1.2.0",
            "_view_name": "StyleView",
            "bar_color": null,
            "description_width": ""
          }
        },
        "38322d6e4bb6467db953471ba1731985": {
          "model_module": "@jupyter-widgets/base",
          "model_name": "LayoutModel",
          "model_module_version": "1.2.0",
          "state": {
            "_model_module": "@jupyter-widgets/base",
            "_model_module_version": "1.2.0",
            "_model_name": "LayoutModel",
            "_view_count": null,
            "_view_module": "@jupyter-widgets/base",
            "_view_module_version": "1.2.0",
            "_view_name": "LayoutView",
            "align_content": null,
            "align_items": null,
            "align_self": null,
            "border": null,
            "bottom": null,
            "display": null,
            "flex": null,
            "flex_flow": null,
            "grid_area": null,
            "grid_auto_columns": null,
            "grid_auto_flow": null,
            "grid_auto_rows": null,
            "grid_column": null,
            "grid_gap": null,
            "grid_row": null,
            "grid_template_areas": null,
            "grid_template_columns": null,
            "grid_template_rows": null,
            "height": null,
            "justify_content": null,
            "justify_items": null,
            "left": null,
            "margin": null,
            "max_height": null,
            "max_width": null,
            "min_height": null,
            "min_width": null,
            "object_fit": null,
            "object_position": null,
            "order": null,
            "overflow": null,
            "overflow_x": null,
            "overflow_y": null,
            "padding": null,
            "right": null,
            "top": null,
            "visibility": null,
            "width": null
          }
        },
        "593de7f690c14cbdb709a08c2b3b6cda": {
          "model_module": "@jupyter-widgets/controls",
          "model_name": "DescriptionStyleModel",
          "model_module_version": "1.5.0",
          "state": {
            "_model_module": "@jupyter-widgets/controls",
            "_model_module_version": "1.5.0",
            "_model_name": "DescriptionStyleModel",
            "_view_count": null,
            "_view_module": "@jupyter-widgets/base",
            "_view_module_version": "1.2.0",
            "_view_name": "StyleView",
            "description_width": ""
          }
        },
        "7177684525ab4025bf61d968e2ae1cd1": {
          "model_module": "@jupyter-widgets/controls",
          "model_name": "HBoxModel",
          "model_module_version": "1.5.0",
          "state": {
            "_dom_classes": [],
            "_model_module": "@jupyter-widgets/controls",
            "_model_module_version": "1.5.0",
            "_model_name": "HBoxModel",
            "_view_count": null,
            "_view_module": "@jupyter-widgets/controls",
            "_view_module_version": "1.5.0",
            "_view_name": "HBoxView",
            "box_style": "",
            "children": [
              "IPY_MODEL_bd3ab9261595490592d6b20d138a57ee",
              "IPY_MODEL_9fcb0bb24cbe40768b957e35fb4722ce",
              "IPY_MODEL_42c8925e26ed4cbd976562ceeaf4878a"
            ],
            "layout": "IPY_MODEL_cf5c219f91eb4d0ab2f5bb02843a5b59"
          }
        },
        "bd3ab9261595490592d6b20d138a57ee": {
          "model_module": "@jupyter-widgets/controls",
          "model_name": "HTMLModel",
          "model_module_version": "1.5.0",
          "state": {
            "_dom_classes": [],
            "_model_module": "@jupyter-widgets/controls",
            "_model_module_version": "1.5.0",
            "_model_name": "HTMLModel",
            "_view_count": null,
            "_view_module": "@jupyter-widgets/controls",
            "_view_module_version": "1.5.0",
            "_view_name": "HTMLView",
            "description": "",
            "description_tooltip": null,
            "layout": "IPY_MODEL_8d1bd216ca3d470681f0a7d70d290361",
            "placeholder": "​",
            "style": "IPY_MODEL_c52eb3f4ff2f4d8fa3345589ba7c2be7",
            "value": "100%"
          }
        },
        "9fcb0bb24cbe40768b957e35fb4722ce": {
          "model_module": "@jupyter-widgets/controls",
          "model_name": "FloatProgressModel",
          "model_module_version": "1.5.0",
          "state": {
            "_dom_classes": [],
            "_model_module": "@jupyter-widgets/controls",
            "_model_module_version": "1.5.0",
            "_model_name": "FloatProgressModel",
            "_view_count": null,
            "_view_module": "@jupyter-widgets/controls",
            "_view_module_version": "1.5.0",
            "_view_name": "ProgressView",
            "bar_style": "success",
            "description": "",
            "description_tooltip": null,
            "layout": "IPY_MODEL_46251ec289394be1b7c783ef65682c3e",
            "max": 13,
            "min": 0,
            "orientation": "horizontal",
            "style": "IPY_MODEL_671eede2708f4022a4c246785038abd0",
            "value": 13
          }
        },
        "42c8925e26ed4cbd976562ceeaf4878a": {
          "model_module": "@jupyter-widgets/controls",
          "model_name": "HTMLModel",
          "model_module_version": "1.5.0",
          "state": {
            "_dom_classes": [],
            "_model_module": "@jupyter-widgets/controls",
            "_model_module_version": "1.5.0",
            "_model_name": "HTMLModel",
            "_view_count": null,
            "_view_module": "@jupyter-widgets/controls",
            "_view_module_version": "1.5.0",
            "_view_name": "HTMLView",
            "description": "",
            "description_tooltip": null,
            "layout": "IPY_MODEL_d8b14a28a1354ee8825155e6dc91b61f",
            "placeholder": "​",
            "style": "IPY_MODEL_390879987dc8496b85f7c8d1b311036b",
            "value": " 13/13 [00:36&lt;00:00,  1.63s/it]"
          }
        },
        "cf5c219f91eb4d0ab2f5bb02843a5b59": {
          "model_module": "@jupyter-widgets/base",
          "model_name": "LayoutModel",
          "model_module_version": "1.2.0",
          "state": {
            "_model_module": "@jupyter-widgets/base",
            "_model_module_version": "1.2.0",
            "_model_name": "LayoutModel",
            "_view_count": null,
            "_view_module": "@jupyter-widgets/base",
            "_view_module_version": "1.2.0",
            "_view_name": "LayoutView",
            "align_content": null,
            "align_items": null,
            "align_self": null,
            "border": null,
            "bottom": null,
            "display": null,
            "flex": null,
            "flex_flow": null,
            "grid_area": null,
            "grid_auto_columns": null,
            "grid_auto_flow": null,
            "grid_auto_rows": null,
            "grid_column": null,
            "grid_gap": null,
            "grid_row": null,
            "grid_template_areas": null,
            "grid_template_columns": null,
            "grid_template_rows": null,
            "height": null,
            "justify_content": null,
            "justify_items": null,
            "left": null,
            "margin": null,
            "max_height": null,
            "max_width": null,
            "min_height": null,
            "min_width": null,
            "object_fit": null,
            "object_position": null,
            "order": null,
            "overflow": null,
            "overflow_x": null,
            "overflow_y": null,
            "padding": null,
            "right": null,
            "top": null,
            "visibility": null,
            "width": null
          }
        },
        "8d1bd216ca3d470681f0a7d70d290361": {
          "model_module": "@jupyter-widgets/base",
          "model_name": "LayoutModel",
          "model_module_version": "1.2.0",
          "state": {
            "_model_module": "@jupyter-widgets/base",
            "_model_module_version": "1.2.0",
            "_model_name": "LayoutModel",
            "_view_count": null,
            "_view_module": "@jupyter-widgets/base",
            "_view_module_version": "1.2.0",
            "_view_name": "LayoutView",
            "align_content": null,
            "align_items": null,
            "align_self": null,
            "border": null,
            "bottom": null,
            "display": null,
            "flex": null,
            "flex_flow": null,
            "grid_area": null,
            "grid_auto_columns": null,
            "grid_auto_flow": null,
            "grid_auto_rows": null,
            "grid_column": null,
            "grid_gap": null,
            "grid_row": null,
            "grid_template_areas": null,
            "grid_template_columns": null,
            "grid_template_rows": null,
            "height": null,
            "justify_content": null,
            "justify_items": null,
            "left": null,
            "margin": null,
            "max_height": null,
            "max_width": null,
            "min_height": null,
            "min_width": null,
            "object_fit": null,
            "object_position": null,
            "order": null,
            "overflow": null,
            "overflow_x": null,
            "overflow_y": null,
            "padding": null,
            "right": null,
            "top": null,
            "visibility": null,
            "width": null
          }
        },
        "c52eb3f4ff2f4d8fa3345589ba7c2be7": {
          "model_module": "@jupyter-widgets/controls",
          "model_name": "DescriptionStyleModel",
          "model_module_version": "1.5.0",
          "state": {
            "_model_module": "@jupyter-widgets/controls",
            "_model_module_version": "1.5.0",
            "_model_name": "DescriptionStyleModel",
            "_view_count": null,
            "_view_module": "@jupyter-widgets/base",
            "_view_module_version": "1.2.0",
            "_view_name": "StyleView",
            "description_width": ""
          }
        },
        "46251ec289394be1b7c783ef65682c3e": {
          "model_module": "@jupyter-widgets/base",
          "model_name": "LayoutModel",
          "model_module_version": "1.2.0",
          "state": {
            "_model_module": "@jupyter-widgets/base",
            "_model_module_version": "1.2.0",
            "_model_name": "LayoutModel",
            "_view_count": null,
            "_view_module": "@jupyter-widgets/base",
            "_view_module_version": "1.2.0",
            "_view_name": "LayoutView",
            "align_content": null,
            "align_items": null,
            "align_self": null,
            "border": null,
            "bottom": null,
            "display": null,
            "flex": null,
            "flex_flow": null,
            "grid_area": null,
            "grid_auto_columns": null,
            "grid_auto_flow": null,
            "grid_auto_rows": null,
            "grid_column": null,
            "grid_gap": null,
            "grid_row": null,
            "grid_template_areas": null,
            "grid_template_columns": null,
            "grid_template_rows": null,
            "height": null,
            "justify_content": null,
            "justify_items": null,
            "left": null,
            "margin": null,
            "max_height": null,
            "max_width": null,
            "min_height": null,
            "min_width": null,
            "object_fit": null,
            "object_position": null,
            "order": null,
            "overflow": null,
            "overflow_x": null,
            "overflow_y": null,
            "padding": null,
            "right": null,
            "top": null,
            "visibility": null,
            "width": null
          }
        },
        "671eede2708f4022a4c246785038abd0": {
          "model_module": "@jupyter-widgets/controls",
          "model_name": "ProgressStyleModel",
          "model_module_version": "1.5.0",
          "state": {
            "_model_module": "@jupyter-widgets/controls",
            "_model_module_version": "1.5.0",
            "_model_name": "ProgressStyleModel",
            "_view_count": null,
            "_view_module": "@jupyter-widgets/base",
            "_view_module_version": "1.2.0",
            "_view_name": "StyleView",
            "bar_color": null,
            "description_width": ""
          }
        },
        "d8b14a28a1354ee8825155e6dc91b61f": {
          "model_module": "@jupyter-widgets/base",
          "model_name": "LayoutModel",
          "model_module_version": "1.2.0",
          "state": {
            "_model_module": "@jupyter-widgets/base",
            "_model_module_version": "1.2.0",
            "_model_name": "LayoutModel",
            "_view_count": null,
            "_view_module": "@jupyter-widgets/base",
            "_view_module_version": "1.2.0",
            "_view_name": "LayoutView",
            "align_content": null,
            "align_items": null,
            "align_self": null,
            "border": null,
            "bottom": null,
            "display": null,
            "flex": null,
            "flex_flow": null,
            "grid_area": null,
            "grid_auto_columns": null,
            "grid_auto_flow": null,
            "grid_auto_rows": null,
            "grid_column": null,
            "grid_gap": null,
            "grid_row": null,
            "grid_template_areas": null,
            "grid_template_columns": null,
            "grid_template_rows": null,
            "height": null,
            "justify_content": null,
            "justify_items": null,
            "left": null,
            "margin": null,
            "max_height": null,
            "max_width": null,
            "min_height": null,
            "min_width": null,
            "object_fit": null,
            "object_position": null,
            "order": null,
            "overflow": null,
            "overflow_x": null,
            "overflow_y": null,
            "padding": null,
            "right": null,
            "top": null,
            "visibility": null,
            "width": null
          }
        },
        "390879987dc8496b85f7c8d1b311036b": {
          "model_module": "@jupyter-widgets/controls",
          "model_name": "DescriptionStyleModel",
          "model_module_version": "1.5.0",
          "state": {
            "_model_module": "@jupyter-widgets/controls",
            "_model_module_version": "1.5.0",
            "_model_name": "DescriptionStyleModel",
            "_view_count": null,
            "_view_module": "@jupyter-widgets/base",
            "_view_module_version": "1.2.0",
            "_view_name": "StyleView",
            "description_width": ""
          }
        },
        "5afbdf23e1c54673b33b1ca663cb9b12": {
          "model_module": "@jupyter-widgets/controls",
          "model_name": "HBoxModel",
          "model_module_version": "1.5.0",
          "state": {
            "_dom_classes": [],
            "_model_module": "@jupyter-widgets/controls",
            "_model_module_version": "1.5.0",
            "_model_name": "HBoxModel",
            "_view_count": null,
            "_view_module": "@jupyter-widgets/controls",
            "_view_module_version": "1.5.0",
            "_view_name": "HBoxView",
            "box_style": "",
            "children": [
              "IPY_MODEL_ee95184585f74a9d8c9102ced484021d",
              "IPY_MODEL_fef6f626c011480e854b3332332c7d7e",
              "IPY_MODEL_4fdf06a5c07742288a62532fbc2a9597"
            ],
            "layout": "IPY_MODEL_e94f1ee5baf640d4999cd06a5e127e8e"
          }
        },
        "ee95184585f74a9d8c9102ced484021d": {
          "model_module": "@jupyter-widgets/controls",
          "model_name": "HTMLModel",
          "model_module_version": "1.5.0",
          "state": {
            "_dom_classes": [],
            "_model_module": "@jupyter-widgets/controls",
            "_model_module_version": "1.5.0",
            "_model_name": "HTMLModel",
            "_view_count": null,
            "_view_module": "@jupyter-widgets/controls",
            "_view_module_version": "1.5.0",
            "_view_name": "HTMLView",
            "description": "",
            "description_tooltip": null,
            "layout": "IPY_MODEL_022a139cf14a4103b4068c6b01a60a49",
            "placeholder": "​",
            "style": "IPY_MODEL_a6a3ee83155a4b4cb93a7ec4db28cc7f",
            "value": "Load Data: 100%"
          }
        },
        "fef6f626c011480e854b3332332c7d7e": {
          "model_module": "@jupyter-widgets/controls",
          "model_name": "FloatProgressModel",
          "model_module_version": "1.5.0",
          "state": {
            "_dom_classes": [],
            "_model_module": "@jupyter-widgets/controls",
            "_model_module_version": "1.5.0",
            "_model_name": "FloatProgressModel",
            "_view_count": null,
            "_view_module": "@jupyter-widgets/controls",
            "_view_module_version": "1.5.0",
            "_view_name": "ProgressView",
            "bar_style": "success",
            "description": "",
            "description_tooltip": null,
            "layout": "IPY_MODEL_7c7b5d9feaa44712bb4850b450a53eca",
            "max": 5289,
            "min": 0,
            "orientation": "horizontal",
            "style": "IPY_MODEL_8dec86f2ed084889a3a54bcc40e096d4",
            "value": 5289
          }
        },
        "4fdf06a5c07742288a62532fbc2a9597": {
          "model_module": "@jupyter-widgets/controls",
          "model_name": "HTMLModel",
          "model_module_version": "1.5.0",
          "state": {
            "_dom_classes": [],
            "_model_module": "@jupyter-widgets/controls",
            "_model_module_version": "1.5.0",
            "_model_name": "HTMLModel",
            "_view_count": null,
            "_view_module": "@jupyter-widgets/controls",
            "_view_module_version": "1.5.0",
            "_view_name": "HTMLView",
            "description": "",
            "description_tooltip": null,
            "layout": "IPY_MODEL_3c22c54045174fef8447ff55d5461416",
            "placeholder": "​",
            "style": "IPY_MODEL_ddf5811abf934aec92cb9033de2ba242",
            "value": " 5289/5289 [00:09&lt;00:00, 846.25it/s]"
          }
        },
        "e94f1ee5baf640d4999cd06a5e127e8e": {
          "model_module": "@jupyter-widgets/base",
          "model_name": "LayoutModel",
          "model_module_version": "1.2.0",
          "state": {
            "_model_module": "@jupyter-widgets/base",
            "_model_module_version": "1.2.0",
            "_model_name": "LayoutModel",
            "_view_count": null,
            "_view_module": "@jupyter-widgets/base",
            "_view_module_version": "1.2.0",
            "_view_name": "LayoutView",
            "align_content": null,
            "align_items": null,
            "align_self": null,
            "border": null,
            "bottom": null,
            "display": null,
            "flex": null,
            "flex_flow": null,
            "grid_area": null,
            "grid_auto_columns": null,
            "grid_auto_flow": null,
            "grid_auto_rows": null,
            "grid_column": null,
            "grid_gap": null,
            "grid_row": null,
            "grid_template_areas": null,
            "grid_template_columns": null,
            "grid_template_rows": null,
            "height": null,
            "justify_content": null,
            "justify_items": null,
            "left": null,
            "margin": null,
            "max_height": null,
            "max_width": null,
            "min_height": null,
            "min_width": null,
            "object_fit": null,
            "object_position": null,
            "order": null,
            "overflow": null,
            "overflow_x": null,
            "overflow_y": null,
            "padding": null,
            "right": null,
            "top": null,
            "visibility": null,
            "width": null
          }
        },
        "022a139cf14a4103b4068c6b01a60a49": {
          "model_module": "@jupyter-widgets/base",
          "model_name": "LayoutModel",
          "model_module_version": "1.2.0",
          "state": {
            "_model_module": "@jupyter-widgets/base",
            "_model_module_version": "1.2.0",
            "_model_name": "LayoutModel",
            "_view_count": null,
            "_view_module": "@jupyter-widgets/base",
            "_view_module_version": "1.2.0",
            "_view_name": "LayoutView",
            "align_content": null,
            "align_items": null,
            "align_self": null,
            "border": null,
            "bottom": null,
            "display": null,
            "flex": null,
            "flex_flow": null,
            "grid_area": null,
            "grid_auto_columns": null,
            "grid_auto_flow": null,
            "grid_auto_rows": null,
            "grid_column": null,
            "grid_gap": null,
            "grid_row": null,
            "grid_template_areas": null,
            "grid_template_columns": null,
            "grid_template_rows": null,
            "height": null,
            "justify_content": null,
            "justify_items": null,
            "left": null,
            "margin": null,
            "max_height": null,
            "max_width": null,
            "min_height": null,
            "min_width": null,
            "object_fit": null,
            "object_position": null,
            "order": null,
            "overflow": null,
            "overflow_x": null,
            "overflow_y": null,
            "padding": null,
            "right": null,
            "top": null,
            "visibility": null,
            "width": null
          }
        },
        "a6a3ee83155a4b4cb93a7ec4db28cc7f": {
          "model_module": "@jupyter-widgets/controls",
          "model_name": "DescriptionStyleModel",
          "model_module_version": "1.5.0",
          "state": {
            "_model_module": "@jupyter-widgets/controls",
            "_model_module_version": "1.5.0",
            "_model_name": "DescriptionStyleModel",
            "_view_count": null,
            "_view_module": "@jupyter-widgets/base",
            "_view_module_version": "1.2.0",
            "_view_name": "StyleView",
            "description_width": ""
          }
        },
        "7c7b5d9feaa44712bb4850b450a53eca": {
          "model_module": "@jupyter-widgets/base",
          "model_name": "LayoutModel",
          "model_module_version": "1.2.0",
          "state": {
            "_model_module": "@jupyter-widgets/base",
            "_model_module_version": "1.2.0",
            "_model_name": "LayoutModel",
            "_view_count": null,
            "_view_module": "@jupyter-widgets/base",
            "_view_module_version": "1.2.0",
            "_view_name": "LayoutView",
            "align_content": null,
            "align_items": null,
            "align_self": null,
            "border": null,
            "bottom": null,
            "display": null,
            "flex": null,
            "flex_flow": null,
            "grid_area": null,
            "grid_auto_columns": null,
            "grid_auto_flow": null,
            "grid_auto_rows": null,
            "grid_column": null,
            "grid_gap": null,
            "grid_row": null,
            "grid_template_areas": null,
            "grid_template_columns": null,
            "grid_template_rows": null,
            "height": null,
            "justify_content": null,
            "justify_items": null,
            "left": null,
            "margin": null,
            "max_height": null,
            "max_width": null,
            "min_height": null,
            "min_width": null,
            "object_fit": null,
            "object_position": null,
            "order": null,
            "overflow": null,
            "overflow_x": null,
            "overflow_y": null,
            "padding": null,
            "right": null,
            "top": null,
            "visibility": null,
            "width": null
          }
        },
        "8dec86f2ed084889a3a54bcc40e096d4": {
          "model_module": "@jupyter-widgets/controls",
          "model_name": "ProgressStyleModel",
          "model_module_version": "1.5.0",
          "state": {
            "_model_module": "@jupyter-widgets/controls",
            "_model_module_version": "1.5.0",
            "_model_name": "ProgressStyleModel",
            "_view_count": null,
            "_view_module": "@jupyter-widgets/base",
            "_view_module_version": "1.2.0",
            "_view_name": "StyleView",
            "bar_color": null,
            "description_width": ""
          }
        },
        "3c22c54045174fef8447ff55d5461416": {
          "model_module": "@jupyter-widgets/base",
          "model_name": "LayoutModel",
          "model_module_version": "1.2.0",
          "state": {
            "_model_module": "@jupyter-widgets/base",
            "_model_module_version": "1.2.0",
            "_model_name": "LayoutModel",
            "_view_count": null,
            "_view_module": "@jupyter-widgets/base",
            "_view_module_version": "1.2.0",
            "_view_name": "LayoutView",
            "align_content": null,
            "align_items": null,
            "align_self": null,
            "border": null,
            "bottom": null,
            "display": null,
            "flex": null,
            "flex_flow": null,
            "grid_area": null,
            "grid_auto_columns": null,
            "grid_auto_flow": null,
            "grid_auto_rows": null,
            "grid_column": null,
            "grid_gap": null,
            "grid_row": null,
            "grid_template_areas": null,
            "grid_template_columns": null,
            "grid_template_rows": null,
            "height": null,
            "justify_content": null,
            "justify_items": null,
            "left": null,
            "margin": null,
            "max_height": null,
            "max_width": null,
            "min_height": null,
            "min_width": null,
            "object_fit": null,
            "object_position": null,
            "order": null,
            "overflow": null,
            "overflow_x": null,
            "overflow_y": null,
            "padding": null,
            "right": null,
            "top": null,
            "visibility": null,
            "width": null
          }
        },
        "ddf5811abf934aec92cb9033de2ba242": {
          "model_module": "@jupyter-widgets/controls",
          "model_name": "DescriptionStyleModel",
          "model_module_version": "1.5.0",
          "state": {
            "_model_module": "@jupyter-widgets/controls",
            "_model_module_version": "1.5.0",
            "_model_name": "DescriptionStyleModel",
            "_view_count": null,
            "_view_module": "@jupyter-widgets/base",
            "_view_module_version": "1.2.0",
            "_view_name": "StyleView",
            "description_width": ""
          }
        },
        "6a2698834c904672ba5a6a2a9dc24cc8": {
          "model_module": "@jupyter-widgets/controls",
          "model_name": "HBoxModel",
          "model_module_version": "1.5.0",
          "state": {
            "_dom_classes": [],
            "_model_module": "@jupyter-widgets/controls",
            "_model_module_version": "1.5.0",
            "_model_name": "HBoxModel",
            "_view_count": null,
            "_view_module": "@jupyter-widgets/controls",
            "_view_module_version": "1.5.0",
            "_view_name": "HBoxView",
            "box_style": "",
            "children": [
              "IPY_MODEL_34d4c2cd05c24f8a8aa7768e403f6066",
              "IPY_MODEL_3f2f5c2563814ef4a9e8e74c1ee8fa38",
              "IPY_MODEL_19fb161814c44da89d371fa88eac1117"
            ],
            "layout": "IPY_MODEL_a56a35b6d5dd423db3c60bfab5efbcca"
          }
        },
        "34d4c2cd05c24f8a8aa7768e403f6066": {
          "model_module": "@jupyter-widgets/controls",
          "model_name": "HTMLModel",
          "model_module_version": "1.5.0",
          "state": {
            "_dom_classes": [],
            "_model_module": "@jupyter-widgets/controls",
            "_model_module_version": "1.5.0",
            "_model_name": "HTMLModel",
            "_view_count": null,
            "_view_module": "@jupyter-widgets/controls",
            "_view_module_version": "1.5.0",
            "_view_name": "HTMLView",
            "description": "",
            "description_tooltip": null,
            "layout": "IPY_MODEL_49537954a2504b2ea7118d2b14a5be47",
            "placeholder": "​",
            "style": "IPY_MODEL_70ff867425e2413fab7909053a242db1",
            "value": "100%"
          }
        },
        "3f2f5c2563814ef4a9e8e74c1ee8fa38": {
          "model_module": "@jupyter-widgets/controls",
          "model_name": "FloatProgressModel",
          "model_module_version": "1.5.0",
          "state": {
            "_dom_classes": [],
            "_model_module": "@jupyter-widgets/controls",
            "_model_module_version": "1.5.0",
            "_model_name": "FloatProgressModel",
            "_view_count": null,
            "_view_module": "@jupyter-widgets/controls",
            "_view_module_version": "1.5.0",
            "_view_name": "ProgressView",
            "bar_style": "success",
            "description": "",
            "description_tooltip": null,
            "layout": "IPY_MODEL_0ecb3a2841624c478b4c6154da9436d7",
            "max": 3271,
            "min": 0,
            "orientation": "horizontal",
            "style": "IPY_MODEL_31cdb132d41a41f3a8dd04184d37eb10",
            "value": 3271
          }
        },
        "19fb161814c44da89d371fa88eac1117": {
          "model_module": "@jupyter-widgets/controls",
          "model_name": "HTMLModel",
          "model_module_version": "1.5.0",
          "state": {
            "_dom_classes": [],
            "_model_module": "@jupyter-widgets/controls",
            "_model_module_version": "1.5.0",
            "_model_name": "HTMLModel",
            "_view_count": null,
            "_view_module": "@jupyter-widgets/controls",
            "_view_module_version": "1.5.0",
            "_view_name": "HTMLView",
            "description": "",
            "description_tooltip": null,
            "layout": "IPY_MODEL_c117a56b7a834c918ed55c8c116d6a37",
            "placeholder": "​",
            "style": "IPY_MODEL_658416100bb449fe957597d5c28914c8",
            "value": " 3271/3271 [00:00&lt;00:00, 71183.96it/s]"
          }
        },
        "a56a35b6d5dd423db3c60bfab5efbcca": {
          "model_module": "@jupyter-widgets/base",
          "model_name": "LayoutModel",
          "model_module_version": "1.2.0",
          "state": {
            "_model_module": "@jupyter-widgets/base",
            "_model_module_version": "1.2.0",
            "_model_name": "LayoutModel",
            "_view_count": null,
            "_view_module": "@jupyter-widgets/base",
            "_view_module_version": "1.2.0",
            "_view_name": "LayoutView",
            "align_content": null,
            "align_items": null,
            "align_self": null,
            "border": null,
            "bottom": null,
            "display": null,
            "flex": null,
            "flex_flow": null,
            "grid_area": null,
            "grid_auto_columns": null,
            "grid_auto_flow": null,
            "grid_auto_rows": null,
            "grid_column": null,
            "grid_gap": null,
            "grid_row": null,
            "grid_template_areas": null,
            "grid_template_columns": null,
            "grid_template_rows": null,
            "height": null,
            "justify_content": null,
            "justify_items": null,
            "left": null,
            "margin": null,
            "max_height": null,
            "max_width": null,
            "min_height": null,
            "min_width": null,
            "object_fit": null,
            "object_position": null,
            "order": null,
            "overflow": null,
            "overflow_x": null,
            "overflow_y": null,
            "padding": null,
            "right": null,
            "top": null,
            "visibility": null,
            "width": null
          }
        },
        "49537954a2504b2ea7118d2b14a5be47": {
          "model_module": "@jupyter-widgets/base",
          "model_name": "LayoutModel",
          "model_module_version": "1.2.0",
          "state": {
            "_model_module": "@jupyter-widgets/base",
            "_model_module_version": "1.2.0",
            "_model_name": "LayoutModel",
            "_view_count": null,
            "_view_module": "@jupyter-widgets/base",
            "_view_module_version": "1.2.0",
            "_view_name": "LayoutView",
            "align_content": null,
            "align_items": null,
            "align_self": null,
            "border": null,
            "bottom": null,
            "display": null,
            "flex": null,
            "flex_flow": null,
            "grid_area": null,
            "grid_auto_columns": null,
            "grid_auto_flow": null,
            "grid_auto_rows": null,
            "grid_column": null,
            "grid_gap": null,
            "grid_row": null,
            "grid_template_areas": null,
            "grid_template_columns": null,
            "grid_template_rows": null,
            "height": null,
            "justify_content": null,
            "justify_items": null,
            "left": null,
            "margin": null,
            "max_height": null,
            "max_width": null,
            "min_height": null,
            "min_width": null,
            "object_fit": null,
            "object_position": null,
            "order": null,
            "overflow": null,
            "overflow_x": null,
            "overflow_y": null,
            "padding": null,
            "right": null,
            "top": null,
            "visibility": null,
            "width": null
          }
        },
        "70ff867425e2413fab7909053a242db1": {
          "model_module": "@jupyter-widgets/controls",
          "model_name": "DescriptionStyleModel",
          "model_module_version": "1.5.0",
          "state": {
            "_model_module": "@jupyter-widgets/controls",
            "_model_module_version": "1.5.0",
            "_model_name": "DescriptionStyleModel",
            "_view_count": null,
            "_view_module": "@jupyter-widgets/base",
            "_view_module_version": "1.2.0",
            "_view_name": "StyleView",
            "description_width": ""
          }
        },
        "0ecb3a2841624c478b4c6154da9436d7": {
          "model_module": "@jupyter-widgets/base",
          "model_name": "LayoutModel",
          "model_module_version": "1.2.0",
          "state": {
            "_model_module": "@jupyter-widgets/base",
            "_model_module_version": "1.2.0",
            "_model_name": "LayoutModel",
            "_view_count": null,
            "_view_module": "@jupyter-widgets/base",
            "_view_module_version": "1.2.0",
            "_view_name": "LayoutView",
            "align_content": null,
            "align_items": null,
            "align_self": null,
            "border": null,
            "bottom": null,
            "display": null,
            "flex": null,
            "flex_flow": null,
            "grid_area": null,
            "grid_auto_columns": null,
            "grid_auto_flow": null,
            "grid_auto_rows": null,
            "grid_column": null,
            "grid_gap": null,
            "grid_row": null,
            "grid_template_areas": null,
            "grid_template_columns": null,
            "grid_template_rows": null,
            "height": null,
            "justify_content": null,
            "justify_items": null,
            "left": null,
            "margin": null,
            "max_height": null,
            "max_width": null,
            "min_height": null,
            "min_width": null,
            "object_fit": null,
            "object_position": null,
            "order": null,
            "overflow": null,
            "overflow_x": null,
            "overflow_y": null,
            "padding": null,
            "right": null,
            "top": null,
            "visibility": null,
            "width": null
          }
        },
        "31cdb132d41a41f3a8dd04184d37eb10": {
          "model_module": "@jupyter-widgets/controls",
          "model_name": "ProgressStyleModel",
          "model_module_version": "1.5.0",
          "state": {
            "_model_module": "@jupyter-widgets/controls",
            "_model_module_version": "1.5.0",
            "_model_name": "ProgressStyleModel",
            "_view_count": null,
            "_view_module": "@jupyter-widgets/base",
            "_view_module_version": "1.2.0",
            "_view_name": "StyleView",
            "bar_color": null,
            "description_width": ""
          }
        },
        "c117a56b7a834c918ed55c8c116d6a37": {
          "model_module": "@jupyter-widgets/base",
          "model_name": "LayoutModel",
          "model_module_version": "1.2.0",
          "state": {
            "_model_module": "@jupyter-widgets/base",
            "_model_module_version": "1.2.0",
            "_model_name": "LayoutModel",
            "_view_count": null,
            "_view_module": "@jupyter-widgets/base",
            "_view_module_version": "1.2.0",
            "_view_name": "LayoutView",
            "align_content": null,
            "align_items": null,
            "align_self": null,
            "border": null,
            "bottom": null,
            "display": null,
            "flex": null,
            "flex_flow": null,
            "grid_area": null,
            "grid_auto_columns": null,
            "grid_auto_flow": null,
            "grid_auto_rows": null,
            "grid_column": null,
            "grid_gap": null,
            "grid_row": null,
            "grid_template_areas": null,
            "grid_template_columns": null,
            "grid_template_rows": null,
            "height": null,
            "justify_content": null,
            "justify_items": null,
            "left": null,
            "margin": null,
            "max_height": null,
            "max_width": null,
            "min_height": null,
            "min_width": null,
            "object_fit": null,
            "object_position": null,
            "order": null,
            "overflow": null,
            "overflow_x": null,
            "overflow_y": null,
            "padding": null,
            "right": null,
            "top": null,
            "visibility": null,
            "width": null
          }
        },
        "658416100bb449fe957597d5c28914c8": {
          "model_module": "@jupyter-widgets/controls",
          "model_name": "DescriptionStyleModel",
          "model_module_version": "1.5.0",
          "state": {
            "_model_module": "@jupyter-widgets/controls",
            "_model_module_version": "1.5.0",
            "_model_name": "DescriptionStyleModel",
            "_view_count": null,
            "_view_module": "@jupyter-widgets/base",
            "_view_module_version": "1.2.0",
            "_view_name": "StyleView",
            "description_width": ""
          }
        },
        "f91e31cd2ff2405b97feb2dd158ae3e0": {
          "model_module": "@jupyter-widgets/controls",
          "model_name": "HBoxModel",
          "model_module_version": "1.5.0",
          "state": {
            "_dom_classes": [],
            "_model_module": "@jupyter-widgets/controls",
            "_model_module_version": "1.5.0",
            "_model_name": "HBoxModel",
            "_view_count": null,
            "_view_module": "@jupyter-widgets/controls",
            "_view_module_version": "1.5.0",
            "_view_name": "HBoxView",
            "box_style": "",
            "children": [
              "IPY_MODEL_bb3d1f0901c146be8a3cd0d2ae48f1e4",
              "IPY_MODEL_081159baf124494a8814c83bcb55bb32",
              "IPY_MODEL_b40281a3de8f4f8985682bc20a0c0acd"
            ],
            "layout": "IPY_MODEL_5cfb995d4f5b4d329b1b8609f534ef0a"
          }
        },
        "bb3d1f0901c146be8a3cd0d2ae48f1e4": {
          "model_module": "@jupyter-widgets/controls",
          "model_name": "HTMLModel",
          "model_module_version": "1.5.0",
          "state": {
            "_dom_classes": [],
            "_model_module": "@jupyter-widgets/controls",
            "_model_module_version": "1.5.0",
            "_model_name": "HTMLModel",
            "_view_count": null,
            "_view_module": "@jupyter-widgets/controls",
            "_view_module_version": "1.5.0",
            "_view_name": "HTMLView",
            "description": "",
            "description_tooltip": null,
            "layout": "IPY_MODEL_f58762b0e5794f44857c9b1f0a58ce95",
            "placeholder": "​",
            "style": "IPY_MODEL_37ce79573be845e4ab4c701995946116",
            "value": "100%"
          }
        },
        "081159baf124494a8814c83bcb55bb32": {
          "model_module": "@jupyter-widgets/controls",
          "model_name": "FloatProgressModel",
          "model_module_version": "1.5.0",
          "state": {
            "_dom_classes": [],
            "_model_module": "@jupyter-widgets/controls",
            "_model_module_version": "1.5.0",
            "_model_name": "FloatProgressModel",
            "_view_count": null,
            "_view_module": "@jupyter-widgets/controls",
            "_view_module_version": "1.5.0",
            "_view_name": "ProgressView",
            "bar_style": "success",
            "description": "",
            "description_tooltip": null,
            "layout": "IPY_MODEL_50aaf263b2f84c9cbe1a7d1de84afebf",
            "max": 935,
            "min": 0,
            "orientation": "horizontal",
            "style": "IPY_MODEL_fcca5514bb394dbb813887571556b795",
            "value": 935
          }
        },
        "b40281a3de8f4f8985682bc20a0c0acd": {
          "model_module": "@jupyter-widgets/controls",
          "model_name": "HTMLModel",
          "model_module_version": "1.5.0",
          "state": {
            "_dom_classes": [],
            "_model_module": "@jupyter-widgets/controls",
            "_model_module_version": "1.5.0",
            "_model_name": "HTMLModel",
            "_view_count": null,
            "_view_module": "@jupyter-widgets/controls",
            "_view_module_version": "1.5.0",
            "_view_name": "HTMLView",
            "description": "",
            "description_tooltip": null,
            "layout": "IPY_MODEL_80c58b9d8f3244619ccb26c2f58e77d0",
            "placeholder": "​",
            "style": "IPY_MODEL_721fe1e799bf4f1c83afe46c0b47e589",
            "value": " 935/935 [00:00&lt;00:00, 27608.87it/s]"
          }
        },
        "5cfb995d4f5b4d329b1b8609f534ef0a": {
          "model_module": "@jupyter-widgets/base",
          "model_name": "LayoutModel",
          "model_module_version": "1.2.0",
          "state": {
            "_model_module": "@jupyter-widgets/base",
            "_model_module_version": "1.2.0",
            "_model_name": "LayoutModel",
            "_view_count": null,
            "_view_module": "@jupyter-widgets/base",
            "_view_module_version": "1.2.0",
            "_view_name": "LayoutView",
            "align_content": null,
            "align_items": null,
            "align_self": null,
            "border": null,
            "bottom": null,
            "display": null,
            "flex": null,
            "flex_flow": null,
            "grid_area": null,
            "grid_auto_columns": null,
            "grid_auto_flow": null,
            "grid_auto_rows": null,
            "grid_column": null,
            "grid_gap": null,
            "grid_row": null,
            "grid_template_areas": null,
            "grid_template_columns": null,
            "grid_template_rows": null,
            "height": null,
            "justify_content": null,
            "justify_items": null,
            "left": null,
            "margin": null,
            "max_height": null,
            "max_width": null,
            "min_height": null,
            "min_width": null,
            "object_fit": null,
            "object_position": null,
            "order": null,
            "overflow": null,
            "overflow_x": null,
            "overflow_y": null,
            "padding": null,
            "right": null,
            "top": null,
            "visibility": null,
            "width": null
          }
        },
        "f58762b0e5794f44857c9b1f0a58ce95": {
          "model_module": "@jupyter-widgets/base",
          "model_name": "LayoutModel",
          "model_module_version": "1.2.0",
          "state": {
            "_model_module": "@jupyter-widgets/base",
            "_model_module_version": "1.2.0",
            "_model_name": "LayoutModel",
            "_view_count": null,
            "_view_module": "@jupyter-widgets/base",
            "_view_module_version": "1.2.0",
            "_view_name": "LayoutView",
            "align_content": null,
            "align_items": null,
            "align_self": null,
            "border": null,
            "bottom": null,
            "display": null,
            "flex": null,
            "flex_flow": null,
            "grid_area": null,
            "grid_auto_columns": null,
            "grid_auto_flow": null,
            "grid_auto_rows": null,
            "grid_column": null,
            "grid_gap": null,
            "grid_row": null,
            "grid_template_areas": null,
            "grid_template_columns": null,
            "grid_template_rows": null,
            "height": null,
            "justify_content": null,
            "justify_items": null,
            "left": null,
            "margin": null,
            "max_height": null,
            "max_width": null,
            "min_height": null,
            "min_width": null,
            "object_fit": null,
            "object_position": null,
            "order": null,
            "overflow": null,
            "overflow_x": null,
            "overflow_y": null,
            "padding": null,
            "right": null,
            "top": null,
            "visibility": null,
            "width": null
          }
        },
        "37ce79573be845e4ab4c701995946116": {
          "model_module": "@jupyter-widgets/controls",
          "model_name": "DescriptionStyleModel",
          "model_module_version": "1.5.0",
          "state": {
            "_model_module": "@jupyter-widgets/controls",
            "_model_module_version": "1.5.0",
            "_model_name": "DescriptionStyleModel",
            "_view_count": null,
            "_view_module": "@jupyter-widgets/base",
            "_view_module_version": "1.2.0",
            "_view_name": "StyleView",
            "description_width": ""
          }
        },
        "50aaf263b2f84c9cbe1a7d1de84afebf": {
          "model_module": "@jupyter-widgets/base",
          "model_name": "LayoutModel",
          "model_module_version": "1.2.0",
          "state": {
            "_model_module": "@jupyter-widgets/base",
            "_model_module_version": "1.2.0",
            "_model_name": "LayoutModel",
            "_view_count": null,
            "_view_module": "@jupyter-widgets/base",
            "_view_module_version": "1.2.0",
            "_view_name": "LayoutView",
            "align_content": null,
            "align_items": null,
            "align_self": null,
            "border": null,
            "bottom": null,
            "display": null,
            "flex": null,
            "flex_flow": null,
            "grid_area": null,
            "grid_auto_columns": null,
            "grid_auto_flow": null,
            "grid_auto_rows": null,
            "grid_column": null,
            "grid_gap": null,
            "grid_row": null,
            "grid_template_areas": null,
            "grid_template_columns": null,
            "grid_template_rows": null,
            "height": null,
            "justify_content": null,
            "justify_items": null,
            "left": null,
            "margin": null,
            "max_height": null,
            "max_width": null,
            "min_height": null,
            "min_width": null,
            "object_fit": null,
            "object_position": null,
            "order": null,
            "overflow": null,
            "overflow_x": null,
            "overflow_y": null,
            "padding": null,
            "right": null,
            "top": null,
            "visibility": null,
            "width": null
          }
        },
        "fcca5514bb394dbb813887571556b795": {
          "model_module": "@jupyter-widgets/controls",
          "model_name": "ProgressStyleModel",
          "model_module_version": "1.5.0",
          "state": {
            "_model_module": "@jupyter-widgets/controls",
            "_model_module_version": "1.5.0",
            "_model_name": "ProgressStyleModel",
            "_view_count": null,
            "_view_module": "@jupyter-widgets/base",
            "_view_module_version": "1.2.0",
            "_view_name": "StyleView",
            "bar_color": null,
            "description_width": ""
          }
        },
        "80c58b9d8f3244619ccb26c2f58e77d0": {
          "model_module": "@jupyter-widgets/base",
          "model_name": "LayoutModel",
          "model_module_version": "1.2.0",
          "state": {
            "_model_module": "@jupyter-widgets/base",
            "_model_module_version": "1.2.0",
            "_model_name": "LayoutModel",
            "_view_count": null,
            "_view_module": "@jupyter-widgets/base",
            "_view_module_version": "1.2.0",
            "_view_name": "LayoutView",
            "align_content": null,
            "align_items": null,
            "align_self": null,
            "border": null,
            "bottom": null,
            "display": null,
            "flex": null,
            "flex_flow": null,
            "grid_area": null,
            "grid_auto_columns": null,
            "grid_auto_flow": null,
            "grid_auto_rows": null,
            "grid_column": null,
            "grid_gap": null,
            "grid_row": null,
            "grid_template_areas": null,
            "grid_template_columns": null,
            "grid_template_rows": null,
            "height": null,
            "justify_content": null,
            "justify_items": null,
            "left": null,
            "margin": null,
            "max_height": null,
            "max_width": null,
            "min_height": null,
            "min_width": null,
            "object_fit": null,
            "object_position": null,
            "order": null,
            "overflow": null,
            "overflow_x": null,
            "overflow_y": null,
            "padding": null,
            "right": null,
            "top": null,
            "visibility": null,
            "width": null
          }
        },
        "721fe1e799bf4f1c83afe46c0b47e589": {
          "model_module": "@jupyter-widgets/controls",
          "model_name": "DescriptionStyleModel",
          "model_module_version": "1.5.0",
          "state": {
            "_model_module": "@jupyter-widgets/controls",
            "_model_module_version": "1.5.0",
            "_model_name": "DescriptionStyleModel",
            "_view_count": null,
            "_view_module": "@jupyter-widgets/base",
            "_view_module_version": "1.2.0",
            "_view_name": "StyleView",
            "description_width": ""
          }
        },
        "c791e26b3ed344a3b6a20e80d9bd3dc1": {
          "model_module": "@jupyter-widgets/controls",
          "model_name": "HBoxModel",
          "model_module_version": "1.5.0",
          "state": {
            "_dom_classes": [],
            "_model_module": "@jupyter-widgets/controls",
            "_model_module_version": "1.5.0",
            "_model_name": "HBoxModel",
            "_view_count": null,
            "_view_module": "@jupyter-widgets/controls",
            "_view_module_version": "1.5.0",
            "_view_name": "HBoxView",
            "box_style": "",
            "children": [
              "IPY_MODEL_af995d720e8e4c879131fd86cdbd1150",
              "IPY_MODEL_87d40f97a892411392bd6c5e1494ef91",
              "IPY_MODEL_4d79583e0e71498e90e4262ad35153af"
            ],
            "layout": "IPY_MODEL_cec9c641d9ac41358292e75dc67260b7"
          }
        },
        "af995d720e8e4c879131fd86cdbd1150": {
          "model_module": "@jupyter-widgets/controls",
          "model_name": "HTMLModel",
          "model_module_version": "1.5.0",
          "state": {
            "_dom_classes": [],
            "_model_module": "@jupyter-widgets/controls",
            "_model_module_version": "1.5.0",
            "_model_name": "HTMLModel",
            "_view_count": null,
            "_view_module": "@jupyter-widgets/controls",
            "_view_module_version": "1.5.0",
            "_view_name": "HTMLView",
            "description": "",
            "description_tooltip": null,
            "layout": "IPY_MODEL_34fb5ca04a39406994bc931929961130",
            "placeholder": "​",
            "style": "IPY_MODEL_08d4b895cac9403ea67b31cfc6ef4d61",
            "value": "100%"
          }
        },
        "87d40f97a892411392bd6c5e1494ef91": {
          "model_module": "@jupyter-widgets/controls",
          "model_name": "FloatProgressModel",
          "model_module_version": "1.5.0",
          "state": {
            "_dom_classes": [],
            "_model_module": "@jupyter-widgets/controls",
            "_model_module_version": "1.5.0",
            "_model_name": "FloatProgressModel",
            "_view_count": null,
            "_view_module": "@jupyter-widgets/controls",
            "_view_module_version": "1.5.0",
            "_view_name": "ProgressView",
            "bar_style": "success",
            "description": "",
            "description_tooltip": null,
            "layout": "IPY_MODEL_9fcef8094b4746b791d9a3c56b4e0846",
            "max": 468,
            "min": 0,
            "orientation": "horizontal",
            "style": "IPY_MODEL_ecbdb182069345ec93c2fd12d10688ce",
            "value": 468
          }
        },
        "4d79583e0e71498e90e4262ad35153af": {
          "model_module": "@jupyter-widgets/controls",
          "model_name": "HTMLModel",
          "model_module_version": "1.5.0",
          "state": {
            "_dom_classes": [],
            "_model_module": "@jupyter-widgets/controls",
            "_model_module_version": "1.5.0",
            "_model_name": "HTMLModel",
            "_view_count": null,
            "_view_module": "@jupyter-widgets/controls",
            "_view_module_version": "1.5.0",
            "_view_name": "HTMLView",
            "description": "",
            "description_tooltip": null,
            "layout": "IPY_MODEL_62fbbc1a0863423499b0ab00c07ea73e",
            "placeholder": "​",
            "style": "IPY_MODEL_fe3e90df86554771a342ae691c226de2",
            "value": " 468/468 [00:00&lt;00:00, 22302.27it/s]"
          }
        },
        "cec9c641d9ac41358292e75dc67260b7": {
          "model_module": "@jupyter-widgets/base",
          "model_name": "LayoutModel",
          "model_module_version": "1.2.0",
          "state": {
            "_model_module": "@jupyter-widgets/base",
            "_model_module_version": "1.2.0",
            "_model_name": "LayoutModel",
            "_view_count": null,
            "_view_module": "@jupyter-widgets/base",
            "_view_module_version": "1.2.0",
            "_view_name": "LayoutView",
            "align_content": null,
            "align_items": null,
            "align_self": null,
            "border": null,
            "bottom": null,
            "display": null,
            "flex": null,
            "flex_flow": null,
            "grid_area": null,
            "grid_auto_columns": null,
            "grid_auto_flow": null,
            "grid_auto_rows": null,
            "grid_column": null,
            "grid_gap": null,
            "grid_row": null,
            "grid_template_areas": null,
            "grid_template_columns": null,
            "grid_template_rows": null,
            "height": null,
            "justify_content": null,
            "justify_items": null,
            "left": null,
            "margin": null,
            "max_height": null,
            "max_width": null,
            "min_height": null,
            "min_width": null,
            "object_fit": null,
            "object_position": null,
            "order": null,
            "overflow": null,
            "overflow_x": null,
            "overflow_y": null,
            "padding": null,
            "right": null,
            "top": null,
            "visibility": null,
            "width": null
          }
        },
        "34fb5ca04a39406994bc931929961130": {
          "model_module": "@jupyter-widgets/base",
          "model_name": "LayoutModel",
          "model_module_version": "1.2.0",
          "state": {
            "_model_module": "@jupyter-widgets/base",
            "_model_module_version": "1.2.0",
            "_model_name": "LayoutModel",
            "_view_count": null,
            "_view_module": "@jupyter-widgets/base",
            "_view_module_version": "1.2.0",
            "_view_name": "LayoutView",
            "align_content": null,
            "align_items": null,
            "align_self": null,
            "border": null,
            "bottom": null,
            "display": null,
            "flex": null,
            "flex_flow": null,
            "grid_area": null,
            "grid_auto_columns": null,
            "grid_auto_flow": null,
            "grid_auto_rows": null,
            "grid_column": null,
            "grid_gap": null,
            "grid_row": null,
            "grid_template_areas": null,
            "grid_template_columns": null,
            "grid_template_rows": null,
            "height": null,
            "justify_content": null,
            "justify_items": null,
            "left": null,
            "margin": null,
            "max_height": null,
            "max_width": null,
            "min_height": null,
            "min_width": null,
            "object_fit": null,
            "object_position": null,
            "order": null,
            "overflow": null,
            "overflow_x": null,
            "overflow_y": null,
            "padding": null,
            "right": null,
            "top": null,
            "visibility": null,
            "width": null
          }
        },
        "08d4b895cac9403ea67b31cfc6ef4d61": {
          "model_module": "@jupyter-widgets/controls",
          "model_name": "DescriptionStyleModel",
          "model_module_version": "1.5.0",
          "state": {
            "_model_module": "@jupyter-widgets/controls",
            "_model_module_version": "1.5.0",
            "_model_name": "DescriptionStyleModel",
            "_view_count": null,
            "_view_module": "@jupyter-widgets/base",
            "_view_module_version": "1.2.0",
            "_view_name": "StyleView",
            "description_width": ""
          }
        },
        "9fcef8094b4746b791d9a3c56b4e0846": {
          "model_module": "@jupyter-widgets/base",
          "model_name": "LayoutModel",
          "model_module_version": "1.2.0",
          "state": {
            "_model_module": "@jupyter-widgets/base",
            "_model_module_version": "1.2.0",
            "_model_name": "LayoutModel",
            "_view_count": null,
            "_view_module": "@jupyter-widgets/base",
            "_view_module_version": "1.2.0",
            "_view_name": "LayoutView",
            "align_content": null,
            "align_items": null,
            "align_self": null,
            "border": null,
            "bottom": null,
            "display": null,
            "flex": null,
            "flex_flow": null,
            "grid_area": null,
            "grid_auto_columns": null,
            "grid_auto_flow": null,
            "grid_auto_rows": null,
            "grid_column": null,
            "grid_gap": null,
            "grid_row": null,
            "grid_template_areas": null,
            "grid_template_columns": null,
            "grid_template_rows": null,
            "height": null,
            "justify_content": null,
            "justify_items": null,
            "left": null,
            "margin": null,
            "max_height": null,
            "max_width": null,
            "min_height": null,
            "min_width": null,
            "object_fit": null,
            "object_position": null,
            "order": null,
            "overflow": null,
            "overflow_x": null,
            "overflow_y": null,
            "padding": null,
            "right": null,
            "top": null,
            "visibility": null,
            "width": null
          }
        },
        "ecbdb182069345ec93c2fd12d10688ce": {
          "model_module": "@jupyter-widgets/controls",
          "model_name": "ProgressStyleModel",
          "model_module_version": "1.5.0",
          "state": {
            "_model_module": "@jupyter-widgets/controls",
            "_model_module_version": "1.5.0",
            "_model_name": "ProgressStyleModel",
            "_view_count": null,
            "_view_module": "@jupyter-widgets/base",
            "_view_module_version": "1.2.0",
            "_view_name": "StyleView",
            "bar_color": null,
            "description_width": ""
          }
        },
        "62fbbc1a0863423499b0ab00c07ea73e": {
          "model_module": "@jupyter-widgets/base",
          "model_name": "LayoutModel",
          "model_module_version": "1.2.0",
          "state": {
            "_model_module": "@jupyter-widgets/base",
            "_model_module_version": "1.2.0",
            "_model_name": "LayoutModel",
            "_view_count": null,
            "_view_module": "@jupyter-widgets/base",
            "_view_module_version": "1.2.0",
            "_view_name": "LayoutView",
            "align_content": null,
            "align_items": null,
            "align_self": null,
            "border": null,
            "bottom": null,
            "display": null,
            "flex": null,
            "flex_flow": null,
            "grid_area": null,
            "grid_auto_columns": null,
            "grid_auto_flow": null,
            "grid_auto_rows": null,
            "grid_column": null,
            "grid_gap": null,
            "grid_row": null,
            "grid_template_areas": null,
            "grid_template_columns": null,
            "grid_template_rows": null,
            "height": null,
            "justify_content": null,
            "justify_items": null,
            "left": null,
            "margin": null,
            "max_height": null,
            "max_width": null,
            "min_height": null,
            "min_width": null,
            "object_fit": null,
            "object_position": null,
            "order": null,
            "overflow": null,
            "overflow_x": null,
            "overflow_y": null,
            "padding": null,
            "right": null,
            "top": null,
            "visibility": null,
            "width": null
          }
        },
        "fe3e90df86554771a342ae691c226de2": {
          "model_module": "@jupyter-widgets/controls",
          "model_name": "DescriptionStyleModel",
          "model_module_version": "1.5.0",
          "state": {
            "_model_module": "@jupyter-widgets/controls",
            "_model_module_version": "1.5.0",
            "_model_name": "DescriptionStyleModel",
            "_view_count": null,
            "_view_module": "@jupyter-widgets/base",
            "_view_module_version": "1.2.0",
            "_view_name": "StyleView",
            "description_width": ""
          }
        },
        "f2b98681640e46a8b02a9b2ef401f73c": {
          "model_module": "@jupyter-widgets/controls",
          "model_name": "HBoxModel",
          "model_module_version": "1.5.0",
          "state": {
            "_dom_classes": [],
            "_model_module": "@jupyter-widgets/controls",
            "_model_module_version": "1.5.0",
            "_model_name": "HBoxModel",
            "_view_count": null,
            "_view_module": "@jupyter-widgets/controls",
            "_view_module_version": "1.5.0",
            "_view_name": "HBoxView",
            "box_style": "",
            "children": [
              "IPY_MODEL_0ceffad421c143e9a33cfc369557209a",
              "IPY_MODEL_c78edb729b274f0897e2e73b80d313a3",
              "IPY_MODEL_fddda07b0dbb4a9cb7052478ad6102fe"
            ],
            "layout": "IPY_MODEL_929857e8175046b1bed31b43bf8322a1"
          }
        },
        "0ceffad421c143e9a33cfc369557209a": {
          "model_module": "@jupyter-widgets/controls",
          "model_name": "HTMLModel",
          "model_module_version": "1.5.0",
          "state": {
            "_dom_classes": [],
            "_model_module": "@jupyter-widgets/controls",
            "_model_module_version": "1.5.0",
            "_model_name": "HTMLModel",
            "_view_count": null,
            "_view_module": "@jupyter-widgets/controls",
            "_view_module_version": "1.5.0",
            "_view_name": "HTMLView",
            "description": "",
            "description_tooltip": null,
            "layout": "IPY_MODEL_96dc0451a42843799a4ba649bd42fcf2",
            "placeholder": "​",
            "style": "IPY_MODEL_c11bb8356b164a7da19c5488395681a1",
            "value": "Downloading builder script: 100%"
          }
        },
        "c78edb729b274f0897e2e73b80d313a3": {
          "model_module": "@jupyter-widgets/controls",
          "model_name": "FloatProgressModel",
          "model_module_version": "1.5.0",
          "state": {
            "_dom_classes": [],
            "_model_module": "@jupyter-widgets/controls",
            "_model_module_version": "1.5.0",
            "_model_name": "FloatProgressModel",
            "_view_count": null,
            "_view_module": "@jupyter-widgets/controls",
            "_view_module_version": "1.5.0",
            "_view_name": "ProgressView",
            "bar_style": "success",
            "description": "",
            "description_tooltip": null,
            "layout": "IPY_MODEL_13afcab98ca8490d92392e47e0cd9c99",
            "max": 5937,
            "min": 0,
            "orientation": "horizontal",
            "style": "IPY_MODEL_f4ddb462e0894001a56892153a1fabc6",
            "value": 5937
          }
        },
        "fddda07b0dbb4a9cb7052478ad6102fe": {
          "model_module": "@jupyter-widgets/controls",
          "model_name": "HTMLModel",
          "model_module_version": "1.5.0",
          "state": {
            "_dom_classes": [],
            "_model_module": "@jupyter-widgets/controls",
            "_model_module_version": "1.5.0",
            "_model_name": "HTMLModel",
            "_view_count": null,
            "_view_module": "@jupyter-widgets/controls",
            "_view_module_version": "1.5.0",
            "_view_name": "HTMLView",
            "description": "",
            "description_tooltip": null,
            "layout": "IPY_MODEL_ed2233ce815f406894ea7ebc1264968b",
            "placeholder": "​",
            "style": "IPY_MODEL_749a8427f5e545749a277bee563bde6b",
            "value": " 5.94k/5.94k [00:00&lt;00:00, 132kB/s]"
          }
        },
        "929857e8175046b1bed31b43bf8322a1": {
          "model_module": "@jupyter-widgets/base",
          "model_name": "LayoutModel",
          "model_module_version": "1.2.0",
          "state": {
            "_model_module": "@jupyter-widgets/base",
            "_model_module_version": "1.2.0",
            "_model_name": "LayoutModel",
            "_view_count": null,
            "_view_module": "@jupyter-widgets/base",
            "_view_module_version": "1.2.0",
            "_view_name": "LayoutView",
            "align_content": null,
            "align_items": null,
            "align_self": null,
            "border": null,
            "bottom": null,
            "display": null,
            "flex": null,
            "flex_flow": null,
            "grid_area": null,
            "grid_auto_columns": null,
            "grid_auto_flow": null,
            "grid_auto_rows": null,
            "grid_column": null,
            "grid_gap": null,
            "grid_row": null,
            "grid_template_areas": null,
            "grid_template_columns": null,
            "grid_template_rows": null,
            "height": null,
            "justify_content": null,
            "justify_items": null,
            "left": null,
            "margin": null,
            "max_height": null,
            "max_width": null,
            "min_height": null,
            "min_width": null,
            "object_fit": null,
            "object_position": null,
            "order": null,
            "overflow": null,
            "overflow_x": null,
            "overflow_y": null,
            "padding": null,
            "right": null,
            "top": null,
            "visibility": null,
            "width": null
          }
        },
        "96dc0451a42843799a4ba649bd42fcf2": {
          "model_module": "@jupyter-widgets/base",
          "model_name": "LayoutModel",
          "model_module_version": "1.2.0",
          "state": {
            "_model_module": "@jupyter-widgets/base",
            "_model_module_version": "1.2.0",
            "_model_name": "LayoutModel",
            "_view_count": null,
            "_view_module": "@jupyter-widgets/base",
            "_view_module_version": "1.2.0",
            "_view_name": "LayoutView",
            "align_content": null,
            "align_items": null,
            "align_self": null,
            "border": null,
            "bottom": null,
            "display": null,
            "flex": null,
            "flex_flow": null,
            "grid_area": null,
            "grid_auto_columns": null,
            "grid_auto_flow": null,
            "grid_auto_rows": null,
            "grid_column": null,
            "grid_gap": null,
            "grid_row": null,
            "grid_template_areas": null,
            "grid_template_columns": null,
            "grid_template_rows": null,
            "height": null,
            "justify_content": null,
            "justify_items": null,
            "left": null,
            "margin": null,
            "max_height": null,
            "max_width": null,
            "min_height": null,
            "min_width": null,
            "object_fit": null,
            "object_position": null,
            "order": null,
            "overflow": null,
            "overflow_x": null,
            "overflow_y": null,
            "padding": null,
            "right": null,
            "top": null,
            "visibility": null,
            "width": null
          }
        },
        "c11bb8356b164a7da19c5488395681a1": {
          "model_module": "@jupyter-widgets/controls",
          "model_name": "DescriptionStyleModel",
          "model_module_version": "1.5.0",
          "state": {
            "_model_module": "@jupyter-widgets/controls",
            "_model_module_version": "1.5.0",
            "_model_name": "DescriptionStyleModel",
            "_view_count": null,
            "_view_module": "@jupyter-widgets/base",
            "_view_module_version": "1.2.0",
            "_view_name": "StyleView",
            "description_width": ""
          }
        },
        "13afcab98ca8490d92392e47e0cd9c99": {
          "model_module": "@jupyter-widgets/base",
          "model_name": "LayoutModel",
          "model_module_version": "1.2.0",
          "state": {
            "_model_module": "@jupyter-widgets/base",
            "_model_module_version": "1.2.0",
            "_model_name": "LayoutModel",
            "_view_count": null,
            "_view_module": "@jupyter-widgets/base",
            "_view_module_version": "1.2.0",
            "_view_name": "LayoutView",
            "align_content": null,
            "align_items": null,
            "align_self": null,
            "border": null,
            "bottom": null,
            "display": null,
            "flex": null,
            "flex_flow": null,
            "grid_area": null,
            "grid_auto_columns": null,
            "grid_auto_flow": null,
            "grid_auto_rows": null,
            "grid_column": null,
            "grid_gap": null,
            "grid_row": null,
            "grid_template_areas": null,
            "grid_template_columns": null,
            "grid_template_rows": null,
            "height": null,
            "justify_content": null,
            "justify_items": null,
            "left": null,
            "margin": null,
            "max_height": null,
            "max_width": null,
            "min_height": null,
            "min_width": null,
            "object_fit": null,
            "object_position": null,
            "order": null,
            "overflow": null,
            "overflow_x": null,
            "overflow_y": null,
            "padding": null,
            "right": null,
            "top": null,
            "visibility": null,
            "width": null
          }
        },
        "f4ddb462e0894001a56892153a1fabc6": {
          "model_module": "@jupyter-widgets/controls",
          "model_name": "ProgressStyleModel",
          "model_module_version": "1.5.0",
          "state": {
            "_model_module": "@jupyter-widgets/controls",
            "_model_module_version": "1.5.0",
            "_model_name": "ProgressStyleModel",
            "_view_count": null,
            "_view_module": "@jupyter-widgets/base",
            "_view_module_version": "1.2.0",
            "_view_name": "StyleView",
            "bar_color": null,
            "description_width": ""
          }
        },
        "ed2233ce815f406894ea7ebc1264968b": {
          "model_module": "@jupyter-widgets/base",
          "model_name": "LayoutModel",
          "model_module_version": "1.2.0",
          "state": {
            "_model_module": "@jupyter-widgets/base",
            "_model_module_version": "1.2.0",
            "_model_name": "LayoutModel",
            "_view_count": null,
            "_view_module": "@jupyter-widgets/base",
            "_view_module_version": "1.2.0",
            "_view_name": "LayoutView",
            "align_content": null,
            "align_items": null,
            "align_self": null,
            "border": null,
            "bottom": null,
            "display": null,
            "flex": null,
            "flex_flow": null,
            "grid_area": null,
            "grid_auto_columns": null,
            "grid_auto_flow": null,
            "grid_auto_rows": null,
            "grid_column": null,
            "grid_gap": null,
            "grid_row": null,
            "grid_template_areas": null,
            "grid_template_columns": null,
            "grid_template_rows": null,
            "height": null,
            "justify_content": null,
            "justify_items": null,
            "left": null,
            "margin": null,
            "max_height": null,
            "max_width": null,
            "min_height": null,
            "min_width": null,
            "object_fit": null,
            "object_position": null,
            "order": null,
            "overflow": null,
            "overflow_x": null,
            "overflow_y": null,
            "padding": null,
            "right": null,
            "top": null,
            "visibility": null,
            "width": null
          }
        },
        "749a8427f5e545749a277bee563bde6b": {
          "model_module": "@jupyter-widgets/controls",
          "model_name": "DescriptionStyleModel",
          "model_module_version": "1.5.0",
          "state": {
            "_model_module": "@jupyter-widgets/controls",
            "_model_module_version": "1.5.0",
            "_model_name": "DescriptionStyleModel",
            "_view_count": null,
            "_view_module": "@jupyter-widgets/base",
            "_view_module_version": "1.2.0",
            "_view_name": "StyleView",
            "description_width": ""
          }
        },
        "fac397ab7b6443618108640060342364": {
          "model_module": "@jupyter-widgets/controls",
          "model_name": "HBoxModel",
          "model_module_version": "1.5.0",
          "state": {
            "_dom_classes": [],
            "_model_module": "@jupyter-widgets/controls",
            "_model_module_version": "1.5.0",
            "_model_name": "HBoxModel",
            "_view_count": null,
            "_view_module": "@jupyter-widgets/controls",
            "_view_module_version": "1.5.0",
            "_view_name": "HBoxView",
            "box_style": "",
            "children": [
              "IPY_MODEL_bce0adee76134178b4a88fa0b6f4873c",
              "IPY_MODEL_84820fff19254c3dbf9737cc4233aa64",
              "IPY_MODEL_a317c7fc9d49457ba1cc343a4a8b31d9"
            ],
            "layout": "IPY_MODEL_95b15a59ca244875848aea12b3241d6e"
          }
        },
        "bce0adee76134178b4a88fa0b6f4873c": {
          "model_module": "@jupyter-widgets/controls",
          "model_name": "HTMLModel",
          "model_module_version": "1.5.0",
          "state": {
            "_dom_classes": [],
            "_model_module": "@jupyter-widgets/controls",
            "_model_module_version": "1.5.0",
            "_model_name": "HTMLModel",
            "_view_count": null,
            "_view_module": "@jupyter-widgets/controls",
            "_view_module_version": "1.5.0",
            "_view_name": "HTMLView",
            "description": "",
            "description_tooltip": null,
            "layout": "IPY_MODEL_875e2c3cf5a64209b09eecc1eb1aa4a0",
            "placeholder": "​",
            "style": "IPY_MODEL_df9aa3a9b4c144fbaf09d35bba2bff84",
            "value": "Downloading extra modules: "
          }
        },
        "84820fff19254c3dbf9737cc4233aa64": {
          "model_module": "@jupyter-widgets/controls",
          "model_name": "FloatProgressModel",
          "model_module_version": "1.5.0",
          "state": {
            "_dom_classes": [],
            "_model_module": "@jupyter-widgets/controls",
            "_model_module_version": "1.5.0",
            "_model_name": "FloatProgressModel",
            "_view_count": null,
            "_view_module": "@jupyter-widgets/controls",
            "_view_module_version": "1.5.0",
            "_view_name": "ProgressView",
            "bar_style": "success",
            "description": "",
            "description_tooltip": null,
            "layout": "IPY_MODEL_86cfb3a127404f4fb5334c1f132788d4",
            "max": 1554,
            "min": 0,
            "orientation": "horizontal",
            "style": "IPY_MODEL_4e3fe6fd1aa844e58ad00672c0a29f26",
            "value": 1554
          }
        },
        "a317c7fc9d49457ba1cc343a4a8b31d9": {
          "model_module": "@jupyter-widgets/controls",
          "model_name": "HTMLModel",
          "model_module_version": "1.5.0",
          "state": {
            "_dom_classes": [],
            "_model_module": "@jupyter-widgets/controls",
            "_model_module_version": "1.5.0",
            "_model_name": "HTMLModel",
            "_view_count": null,
            "_view_module": "@jupyter-widgets/controls",
            "_view_module_version": "1.5.0",
            "_view_name": "HTMLView",
            "description": "",
            "description_tooltip": null,
            "layout": "IPY_MODEL_bcd98bb972614eac8977ac04342b2c6d",
            "placeholder": "​",
            "style": "IPY_MODEL_a7757faf424a4de7a75ab914e151480e",
            "value": " 4.07k/? [00:00&lt;00:00, 115kB/s]"
          }
        },
        "95b15a59ca244875848aea12b3241d6e": {
          "model_module": "@jupyter-widgets/base",
          "model_name": "LayoutModel",
          "model_module_version": "1.2.0",
          "state": {
            "_model_module": "@jupyter-widgets/base",
            "_model_module_version": "1.2.0",
            "_model_name": "LayoutModel",
            "_view_count": null,
            "_view_module": "@jupyter-widgets/base",
            "_view_module_version": "1.2.0",
            "_view_name": "LayoutView",
            "align_content": null,
            "align_items": null,
            "align_self": null,
            "border": null,
            "bottom": null,
            "display": null,
            "flex": null,
            "flex_flow": null,
            "grid_area": null,
            "grid_auto_columns": null,
            "grid_auto_flow": null,
            "grid_auto_rows": null,
            "grid_column": null,
            "grid_gap": null,
            "grid_row": null,
            "grid_template_areas": null,
            "grid_template_columns": null,
            "grid_template_rows": null,
            "height": null,
            "justify_content": null,
            "justify_items": null,
            "left": null,
            "margin": null,
            "max_height": null,
            "max_width": null,
            "min_height": null,
            "min_width": null,
            "object_fit": null,
            "object_position": null,
            "order": null,
            "overflow": null,
            "overflow_x": null,
            "overflow_y": null,
            "padding": null,
            "right": null,
            "top": null,
            "visibility": null,
            "width": null
          }
        },
        "875e2c3cf5a64209b09eecc1eb1aa4a0": {
          "model_module": "@jupyter-widgets/base",
          "model_name": "LayoutModel",
          "model_module_version": "1.2.0",
          "state": {
            "_model_module": "@jupyter-widgets/base",
            "_model_module_version": "1.2.0",
            "_model_name": "LayoutModel",
            "_view_count": null,
            "_view_module": "@jupyter-widgets/base",
            "_view_module_version": "1.2.0",
            "_view_name": "LayoutView",
            "align_content": null,
            "align_items": null,
            "align_self": null,
            "border": null,
            "bottom": null,
            "display": null,
            "flex": null,
            "flex_flow": null,
            "grid_area": null,
            "grid_auto_columns": null,
            "grid_auto_flow": null,
            "grid_auto_rows": null,
            "grid_column": null,
            "grid_gap": null,
            "grid_row": null,
            "grid_template_areas": null,
            "grid_template_columns": null,
            "grid_template_rows": null,
            "height": null,
            "justify_content": null,
            "justify_items": null,
            "left": null,
            "margin": null,
            "max_height": null,
            "max_width": null,
            "min_height": null,
            "min_width": null,
            "object_fit": null,
            "object_position": null,
            "order": null,
            "overflow": null,
            "overflow_x": null,
            "overflow_y": null,
            "padding": null,
            "right": null,
            "top": null,
            "visibility": null,
            "width": null
          }
        },
        "df9aa3a9b4c144fbaf09d35bba2bff84": {
          "model_module": "@jupyter-widgets/controls",
          "model_name": "DescriptionStyleModel",
          "model_module_version": "1.5.0",
          "state": {
            "_model_module": "@jupyter-widgets/controls",
            "_model_module_version": "1.5.0",
            "_model_name": "DescriptionStyleModel",
            "_view_count": null,
            "_view_module": "@jupyter-widgets/base",
            "_view_module_version": "1.2.0",
            "_view_name": "StyleView",
            "description_width": ""
          }
        },
        "86cfb3a127404f4fb5334c1f132788d4": {
          "model_module": "@jupyter-widgets/base",
          "model_name": "LayoutModel",
          "model_module_version": "1.2.0",
          "state": {
            "_model_module": "@jupyter-widgets/base",
            "_model_module_version": "1.2.0",
            "_model_name": "LayoutModel",
            "_view_count": null,
            "_view_module": "@jupyter-widgets/base",
            "_view_module_version": "1.2.0",
            "_view_name": "LayoutView",
            "align_content": null,
            "align_items": null,
            "align_self": null,
            "border": null,
            "bottom": null,
            "display": null,
            "flex": null,
            "flex_flow": null,
            "grid_area": null,
            "grid_auto_columns": null,
            "grid_auto_flow": null,
            "grid_auto_rows": null,
            "grid_column": null,
            "grid_gap": null,
            "grid_row": null,
            "grid_template_areas": null,
            "grid_template_columns": null,
            "grid_template_rows": null,
            "height": null,
            "justify_content": null,
            "justify_items": null,
            "left": null,
            "margin": null,
            "max_height": null,
            "max_width": null,
            "min_height": null,
            "min_width": null,
            "object_fit": null,
            "object_position": null,
            "order": null,
            "overflow": null,
            "overflow_x": null,
            "overflow_y": null,
            "padding": null,
            "right": null,
            "top": null,
            "visibility": null,
            "width": null
          }
        },
        "4e3fe6fd1aa844e58ad00672c0a29f26": {
          "model_module": "@jupyter-widgets/controls",
          "model_name": "ProgressStyleModel",
          "model_module_version": "1.5.0",
          "state": {
            "_model_module": "@jupyter-widgets/controls",
            "_model_module_version": "1.5.0",
            "_model_name": "ProgressStyleModel",
            "_view_count": null,
            "_view_module": "@jupyter-widgets/base",
            "_view_module_version": "1.2.0",
            "_view_name": "StyleView",
            "bar_color": null,
            "description_width": ""
          }
        },
        "bcd98bb972614eac8977ac04342b2c6d": {
          "model_module": "@jupyter-widgets/base",
          "model_name": "LayoutModel",
          "model_module_version": "1.2.0",
          "state": {
            "_model_module": "@jupyter-widgets/base",
            "_model_module_version": "1.2.0",
            "_model_name": "LayoutModel",
            "_view_count": null,
            "_view_module": "@jupyter-widgets/base",
            "_view_module_version": "1.2.0",
            "_view_name": "LayoutView",
            "align_content": null,
            "align_items": null,
            "align_self": null,
            "border": null,
            "bottom": null,
            "display": null,
            "flex": null,
            "flex_flow": null,
            "grid_area": null,
            "grid_auto_columns": null,
            "grid_auto_flow": null,
            "grid_auto_rows": null,
            "grid_column": null,
            "grid_gap": null,
            "grid_row": null,
            "grid_template_areas": null,
            "grid_template_columns": null,
            "grid_template_rows": null,
            "height": null,
            "justify_content": null,
            "justify_items": null,
            "left": null,
            "margin": null,
            "max_height": null,
            "max_width": null,
            "min_height": null,
            "min_width": null,
            "object_fit": null,
            "object_position": null,
            "order": null,
            "overflow": null,
            "overflow_x": null,
            "overflow_y": null,
            "padding": null,
            "right": null,
            "top": null,
            "visibility": null,
            "width": null
          }
        },
        "a7757faf424a4de7a75ab914e151480e": {
          "model_module": "@jupyter-widgets/controls",
          "model_name": "DescriptionStyleModel",
          "model_module_version": "1.5.0",
          "state": {
            "_model_module": "@jupyter-widgets/controls",
            "_model_module_version": "1.5.0",
            "_model_name": "DescriptionStyleModel",
            "_view_count": null,
            "_view_module": "@jupyter-widgets/base",
            "_view_module_version": "1.2.0",
            "_view_name": "StyleView",
            "description_width": ""
          }
        },
        "f67c3a69d05d44fdb8392649d4f942df": {
          "model_module": "@jupyter-widgets/controls",
          "model_name": "HBoxModel",
          "model_module_version": "1.5.0",
          "state": {
            "_dom_classes": [],
            "_model_module": "@jupyter-widgets/controls",
            "_model_module_version": "1.5.0",
            "_model_name": "HBoxModel",
            "_view_count": null,
            "_view_module": "@jupyter-widgets/controls",
            "_view_module_version": "1.5.0",
            "_view_name": "HBoxView",
            "box_style": "",
            "children": [
              "IPY_MODEL_bf9f0f2389614de7aa77b5760df00a7f",
              "IPY_MODEL_b512a0656d534d11b73ac069ce544d41",
              "IPY_MODEL_30335c4610214f9ea3ba30889e55276b"
            ],
            "layout": "IPY_MODEL_c8aa5e4d7bca46e39d0aef610e04118c"
          }
        },
        "bf9f0f2389614de7aa77b5760df00a7f": {
          "model_module": "@jupyter-widgets/controls",
          "model_name": "HTMLModel",
          "model_module_version": "1.5.0",
          "state": {
            "_dom_classes": [],
            "_model_module": "@jupyter-widgets/controls",
            "_model_module_version": "1.5.0",
            "_model_name": "HTMLModel",
            "_view_count": null,
            "_view_module": "@jupyter-widgets/controls",
            "_view_module_version": "1.5.0",
            "_view_name": "HTMLView",
            "description": "",
            "description_tooltip": null,
            "layout": "IPY_MODEL_8a5b91440009425aa267c7248ab57762",
            "placeholder": "​",
            "style": "IPY_MODEL_16f58d7964b946f1821903b805506b8e",
            "value": "Downloading extra modules: 100%"
          }
        },
        "b512a0656d534d11b73ac069ce544d41": {
          "model_module": "@jupyter-widgets/controls",
          "model_name": "FloatProgressModel",
          "model_module_version": "1.5.0",
          "state": {
            "_dom_classes": [],
            "_model_module": "@jupyter-widgets/controls",
            "_model_module_version": "1.5.0",
            "_model_name": "FloatProgressModel",
            "_view_count": null,
            "_view_module": "@jupyter-widgets/controls",
            "_view_module_version": "1.5.0",
            "_view_name": "ProgressView",
            "bar_style": "success",
            "description": "",
            "description_tooltip": null,
            "layout": "IPY_MODEL_8f85b8e1c05f40feadb8bbe12989d541",
            "max": 3344,
            "min": 0,
            "orientation": "horizontal",
            "style": "IPY_MODEL_8284a89717eb4e59ad7c39479df41be5",
            "value": 3344
          }
        },
        "30335c4610214f9ea3ba30889e55276b": {
          "model_module": "@jupyter-widgets/controls",
          "model_name": "HTMLModel",
          "model_module_version": "1.5.0",
          "state": {
            "_dom_classes": [],
            "_model_module": "@jupyter-widgets/controls",
            "_model_module_version": "1.5.0",
            "_model_name": "HTMLModel",
            "_view_count": null,
            "_view_module": "@jupyter-widgets/controls",
            "_view_module_version": "1.5.0",
            "_view_name": "HTMLView",
            "description": "",
            "description_tooltip": null,
            "layout": "IPY_MODEL_faa5fa195feb4b77a19c6b4f80485f11",
            "placeholder": "​",
            "style": "IPY_MODEL_460037a1865046e8838ce8fca8878fed",
            "value": " 3.34k/3.34k [00:00&lt;00:00, 177kB/s]"
          }
        },
        "c8aa5e4d7bca46e39d0aef610e04118c": {
          "model_module": "@jupyter-widgets/base",
          "model_name": "LayoutModel",
          "model_module_version": "1.2.0",
          "state": {
            "_model_module": "@jupyter-widgets/base",
            "_model_module_version": "1.2.0",
            "_model_name": "LayoutModel",
            "_view_count": null,
            "_view_module": "@jupyter-widgets/base",
            "_view_module_version": "1.2.0",
            "_view_name": "LayoutView",
            "align_content": null,
            "align_items": null,
            "align_self": null,
            "border": null,
            "bottom": null,
            "display": null,
            "flex": null,
            "flex_flow": null,
            "grid_area": null,
            "grid_auto_columns": null,
            "grid_auto_flow": null,
            "grid_auto_rows": null,
            "grid_column": null,
            "grid_gap": null,
            "grid_row": null,
            "grid_template_areas": null,
            "grid_template_columns": null,
            "grid_template_rows": null,
            "height": null,
            "justify_content": null,
            "justify_items": null,
            "left": null,
            "margin": null,
            "max_height": null,
            "max_width": null,
            "min_height": null,
            "min_width": null,
            "object_fit": null,
            "object_position": null,
            "order": null,
            "overflow": null,
            "overflow_x": null,
            "overflow_y": null,
            "padding": null,
            "right": null,
            "top": null,
            "visibility": null,
            "width": null
          }
        },
        "8a5b91440009425aa267c7248ab57762": {
          "model_module": "@jupyter-widgets/base",
          "model_name": "LayoutModel",
          "model_module_version": "1.2.0",
          "state": {
            "_model_module": "@jupyter-widgets/base",
            "_model_module_version": "1.2.0",
            "_model_name": "LayoutModel",
            "_view_count": null,
            "_view_module": "@jupyter-widgets/base",
            "_view_module_version": "1.2.0",
            "_view_name": "LayoutView",
            "align_content": null,
            "align_items": null,
            "align_self": null,
            "border": null,
            "bottom": null,
            "display": null,
            "flex": null,
            "flex_flow": null,
            "grid_area": null,
            "grid_auto_columns": null,
            "grid_auto_flow": null,
            "grid_auto_rows": null,
            "grid_column": null,
            "grid_gap": null,
            "grid_row": null,
            "grid_template_areas": null,
            "grid_template_columns": null,
            "grid_template_rows": null,
            "height": null,
            "justify_content": null,
            "justify_items": null,
            "left": null,
            "margin": null,
            "max_height": null,
            "max_width": null,
            "min_height": null,
            "min_width": null,
            "object_fit": null,
            "object_position": null,
            "order": null,
            "overflow": null,
            "overflow_x": null,
            "overflow_y": null,
            "padding": null,
            "right": null,
            "top": null,
            "visibility": null,
            "width": null
          }
        },
        "16f58d7964b946f1821903b805506b8e": {
          "model_module": "@jupyter-widgets/controls",
          "model_name": "DescriptionStyleModel",
          "model_module_version": "1.5.0",
          "state": {
            "_model_module": "@jupyter-widgets/controls",
            "_model_module_version": "1.5.0",
            "_model_name": "DescriptionStyleModel",
            "_view_count": null,
            "_view_module": "@jupyter-widgets/base",
            "_view_module_version": "1.2.0",
            "_view_name": "StyleView",
            "description_width": ""
          }
        },
        "8f85b8e1c05f40feadb8bbe12989d541": {
          "model_module": "@jupyter-widgets/base",
          "model_name": "LayoutModel",
          "model_module_version": "1.2.0",
          "state": {
            "_model_module": "@jupyter-widgets/base",
            "_model_module_version": "1.2.0",
            "_model_name": "LayoutModel",
            "_view_count": null,
            "_view_module": "@jupyter-widgets/base",
            "_view_module_version": "1.2.0",
            "_view_name": "LayoutView",
            "align_content": null,
            "align_items": null,
            "align_self": null,
            "border": null,
            "bottom": null,
            "display": null,
            "flex": null,
            "flex_flow": null,
            "grid_area": null,
            "grid_auto_columns": null,
            "grid_auto_flow": null,
            "grid_auto_rows": null,
            "grid_column": null,
            "grid_gap": null,
            "grid_row": null,
            "grid_template_areas": null,
            "grid_template_columns": null,
            "grid_template_rows": null,
            "height": null,
            "justify_content": null,
            "justify_items": null,
            "left": null,
            "margin": null,
            "max_height": null,
            "max_width": null,
            "min_height": null,
            "min_width": null,
            "object_fit": null,
            "object_position": null,
            "order": null,
            "overflow": null,
            "overflow_x": null,
            "overflow_y": null,
            "padding": null,
            "right": null,
            "top": null,
            "visibility": null,
            "width": null
          }
        },
        "8284a89717eb4e59ad7c39479df41be5": {
          "model_module": "@jupyter-widgets/controls",
          "model_name": "ProgressStyleModel",
          "model_module_version": "1.5.0",
          "state": {
            "_model_module": "@jupyter-widgets/controls",
            "_model_module_version": "1.5.0",
            "_model_name": "ProgressStyleModel",
            "_view_count": null,
            "_view_module": "@jupyter-widgets/base",
            "_view_module_version": "1.2.0",
            "_view_name": "StyleView",
            "bar_color": null,
            "description_width": ""
          }
        },
        "faa5fa195feb4b77a19c6b4f80485f11": {
          "model_module": "@jupyter-widgets/base",
          "model_name": "LayoutModel",
          "model_module_version": "1.2.0",
          "state": {
            "_model_module": "@jupyter-widgets/base",
            "_model_module_version": "1.2.0",
            "_model_name": "LayoutModel",
            "_view_count": null,
            "_view_module": "@jupyter-widgets/base",
            "_view_module_version": "1.2.0",
            "_view_name": "LayoutView",
            "align_content": null,
            "align_items": null,
            "align_self": null,
            "border": null,
            "bottom": null,
            "display": null,
            "flex": null,
            "flex_flow": null,
            "grid_area": null,
            "grid_auto_columns": null,
            "grid_auto_flow": null,
            "grid_auto_rows": null,
            "grid_column": null,
            "grid_gap": null,
            "grid_row": null,
            "grid_template_areas": null,
            "grid_template_columns": null,
            "grid_template_rows": null,
            "height": null,
            "justify_content": null,
            "justify_items": null,
            "left": null,
            "margin": null,
            "max_height": null,
            "max_width": null,
            "min_height": null,
            "min_width": null,
            "object_fit": null,
            "object_position": null,
            "order": null,
            "overflow": null,
            "overflow_x": null,
            "overflow_y": null,
            "padding": null,
            "right": null,
            "top": null,
            "visibility": null,
            "width": null
          }
        },
        "460037a1865046e8838ce8fca8878fed": {
          "model_module": "@jupyter-widgets/controls",
          "model_name": "DescriptionStyleModel",
          "model_module_version": "1.5.0",
          "state": {
            "_model_module": "@jupyter-widgets/controls",
            "_model_module_version": "1.5.0",
            "_model_name": "DescriptionStyleModel",
            "_view_count": null,
            "_view_module": "@jupyter-widgets/base",
            "_view_module_version": "1.2.0",
            "_view_name": "StyleView",
            "description_width": ""
          }
        },
        "97107e2477e14f99aad9db8e750fdecd": {
          "model_module": "@jupyter-widgets/controls",
          "model_name": "HBoxModel",
          "model_module_version": "1.5.0",
          "state": {
            "_dom_classes": [],
            "_model_module": "@jupyter-widgets/controls",
            "_model_module_version": "1.5.0",
            "_model_name": "HBoxModel",
            "_view_count": null,
            "_view_module": "@jupyter-widgets/controls",
            "_view_module_version": "1.5.0",
            "_view_name": "HBoxView",
            "box_style": "",
            "children": [
              "IPY_MODEL_fbd1e8b76b2840258adef5350a8974ce",
              "IPY_MODEL_d5a7f47cabbd44049b7f565d237415c9",
              "IPY_MODEL_986e77b8b11945c4b12c33368688c172"
            ],
            "layout": "IPY_MODEL_e9efad24a4b84c84893cd9819bfdb4d4"
          }
        },
        "fbd1e8b76b2840258adef5350a8974ce": {
          "model_module": "@jupyter-widgets/controls",
          "model_name": "HTMLModel",
          "model_module_version": "1.5.0",
          "state": {
            "_dom_classes": [],
            "_model_module": "@jupyter-widgets/controls",
            "_model_module_version": "1.5.0",
            "_model_name": "HTMLModel",
            "_view_count": null,
            "_view_module": "@jupyter-widgets/controls",
            "_view_module_version": "1.5.0",
            "_view_name": "HTMLView",
            "description": "",
            "description_tooltip": null,
            "layout": "IPY_MODEL_3c89c0f008dc4916a2c897fb1973713c",
            "placeholder": "​",
            "style": "IPY_MODEL_f92c1e5f092f4ddea568356193fa8a24",
            "value": "Downloading builder script: 100%"
          }
        },
        "d5a7f47cabbd44049b7f565d237415c9": {
          "model_module": "@jupyter-widgets/controls",
          "model_name": "FloatProgressModel",
          "model_module_version": "1.5.0",
          "state": {
            "_dom_classes": [],
            "_model_module": "@jupyter-widgets/controls",
            "_model_module_version": "1.5.0",
            "_model_name": "FloatProgressModel",
            "_view_count": null,
            "_view_module": "@jupyter-widgets/controls",
            "_view_module_version": "1.5.0",
            "_view_name": "ProgressView",
            "bar_style": "success",
            "description": "",
            "description_tooltip": null,
            "layout": "IPY_MODEL_853354d9ac984cc5b8cf2f4893d2e898",
            "max": 6270,
            "min": 0,
            "orientation": "horizontal",
            "style": "IPY_MODEL_f6ee6ac8eb90465cb7067a5c10757fd3",
            "value": 6270
          }
        },
        "986e77b8b11945c4b12c33368688c172": {
          "model_module": "@jupyter-widgets/controls",
          "model_name": "HTMLModel",
          "model_module_version": "1.5.0",
          "state": {
            "_dom_classes": [],
            "_model_module": "@jupyter-widgets/controls",
            "_model_module_version": "1.5.0",
            "_model_name": "HTMLModel",
            "_view_count": null,
            "_view_module": "@jupyter-widgets/controls",
            "_view_module_version": "1.5.0",
            "_view_name": "HTMLView",
            "description": "",
            "description_tooltip": null,
            "layout": "IPY_MODEL_8ff8cbaa192140799ca4aadfe2b1da47",
            "placeholder": "​",
            "style": "IPY_MODEL_8d7128be0f0a491ba8fdfe820c6f3e27",
            "value": " 6.27k/6.27k [00:00&lt;00:00, 206kB/s]"
          }
        },
        "e9efad24a4b84c84893cd9819bfdb4d4": {
          "model_module": "@jupyter-widgets/base",
          "model_name": "LayoutModel",
          "model_module_version": "1.2.0",
          "state": {
            "_model_module": "@jupyter-widgets/base",
            "_model_module_version": "1.2.0",
            "_model_name": "LayoutModel",
            "_view_count": null,
            "_view_module": "@jupyter-widgets/base",
            "_view_module_version": "1.2.0",
            "_view_name": "LayoutView",
            "align_content": null,
            "align_items": null,
            "align_self": null,
            "border": null,
            "bottom": null,
            "display": null,
            "flex": null,
            "flex_flow": null,
            "grid_area": null,
            "grid_auto_columns": null,
            "grid_auto_flow": null,
            "grid_auto_rows": null,
            "grid_column": null,
            "grid_gap": null,
            "grid_row": null,
            "grid_template_areas": null,
            "grid_template_columns": null,
            "grid_template_rows": null,
            "height": null,
            "justify_content": null,
            "justify_items": null,
            "left": null,
            "margin": null,
            "max_height": null,
            "max_width": null,
            "min_height": null,
            "min_width": null,
            "object_fit": null,
            "object_position": null,
            "order": null,
            "overflow": null,
            "overflow_x": null,
            "overflow_y": null,
            "padding": null,
            "right": null,
            "top": null,
            "visibility": null,
            "width": null
          }
        },
        "3c89c0f008dc4916a2c897fb1973713c": {
          "model_module": "@jupyter-widgets/base",
          "model_name": "LayoutModel",
          "model_module_version": "1.2.0",
          "state": {
            "_model_module": "@jupyter-widgets/base",
            "_model_module_version": "1.2.0",
            "_model_name": "LayoutModel",
            "_view_count": null,
            "_view_module": "@jupyter-widgets/base",
            "_view_module_version": "1.2.0",
            "_view_name": "LayoutView",
            "align_content": null,
            "align_items": null,
            "align_self": null,
            "border": null,
            "bottom": null,
            "display": null,
            "flex": null,
            "flex_flow": null,
            "grid_area": null,
            "grid_auto_columns": null,
            "grid_auto_flow": null,
            "grid_auto_rows": null,
            "grid_column": null,
            "grid_gap": null,
            "grid_row": null,
            "grid_template_areas": null,
            "grid_template_columns": null,
            "grid_template_rows": null,
            "height": null,
            "justify_content": null,
            "justify_items": null,
            "left": null,
            "margin": null,
            "max_height": null,
            "max_width": null,
            "min_height": null,
            "min_width": null,
            "object_fit": null,
            "object_position": null,
            "order": null,
            "overflow": null,
            "overflow_x": null,
            "overflow_y": null,
            "padding": null,
            "right": null,
            "top": null,
            "visibility": null,
            "width": null
          }
        },
        "f92c1e5f092f4ddea568356193fa8a24": {
          "model_module": "@jupyter-widgets/controls",
          "model_name": "DescriptionStyleModel",
          "model_module_version": "1.5.0",
          "state": {
            "_model_module": "@jupyter-widgets/controls",
            "_model_module_version": "1.5.0",
            "_model_name": "DescriptionStyleModel",
            "_view_count": null,
            "_view_module": "@jupyter-widgets/base",
            "_view_module_version": "1.2.0",
            "_view_name": "StyleView",
            "description_width": ""
          }
        },
        "853354d9ac984cc5b8cf2f4893d2e898": {
          "model_module": "@jupyter-widgets/base",
          "model_name": "LayoutModel",
          "model_module_version": "1.2.0",
          "state": {
            "_model_module": "@jupyter-widgets/base",
            "_model_module_version": "1.2.0",
            "_model_name": "LayoutModel",
            "_view_count": null,
            "_view_module": "@jupyter-widgets/base",
            "_view_module_version": "1.2.0",
            "_view_name": "LayoutView",
            "align_content": null,
            "align_items": null,
            "align_self": null,
            "border": null,
            "bottom": null,
            "display": null,
            "flex": null,
            "flex_flow": null,
            "grid_area": null,
            "grid_auto_columns": null,
            "grid_auto_flow": null,
            "grid_auto_rows": null,
            "grid_column": null,
            "grid_gap": null,
            "grid_row": null,
            "grid_template_areas": null,
            "grid_template_columns": null,
            "grid_template_rows": null,
            "height": null,
            "justify_content": null,
            "justify_items": null,
            "left": null,
            "margin": null,
            "max_height": null,
            "max_width": null,
            "min_height": null,
            "min_width": null,
            "object_fit": null,
            "object_position": null,
            "order": null,
            "overflow": null,
            "overflow_x": null,
            "overflow_y": null,
            "padding": null,
            "right": null,
            "top": null,
            "visibility": null,
            "width": null
          }
        },
        "f6ee6ac8eb90465cb7067a5c10757fd3": {
          "model_module": "@jupyter-widgets/controls",
          "model_name": "ProgressStyleModel",
          "model_module_version": "1.5.0",
          "state": {
            "_model_module": "@jupyter-widgets/controls",
            "_model_module_version": "1.5.0",
            "_model_name": "ProgressStyleModel",
            "_view_count": null,
            "_view_module": "@jupyter-widgets/base",
            "_view_module_version": "1.2.0",
            "_view_name": "StyleView",
            "bar_color": null,
            "description_width": ""
          }
        },
        "8ff8cbaa192140799ca4aadfe2b1da47": {
          "model_module": "@jupyter-widgets/base",
          "model_name": "LayoutModel",
          "model_module_version": "1.2.0",
          "state": {
            "_model_module": "@jupyter-widgets/base",
            "_model_module_version": "1.2.0",
            "_model_name": "LayoutModel",
            "_view_count": null,
            "_view_module": "@jupyter-widgets/base",
            "_view_module_version": "1.2.0",
            "_view_name": "LayoutView",
            "align_content": null,
            "align_items": null,
            "align_self": null,
            "border": null,
            "bottom": null,
            "display": null,
            "flex": null,
            "flex_flow": null,
            "grid_area": null,
            "grid_auto_columns": null,
            "grid_auto_flow": null,
            "grid_auto_rows": null,
            "grid_column": null,
            "grid_gap": null,
            "grid_row": null,
            "grid_template_areas": null,
            "grid_template_columns": null,
            "grid_template_rows": null,
            "height": null,
            "justify_content": null,
            "justify_items": null,
            "left": null,
            "margin": null,
            "max_height": null,
            "max_width": null,
            "min_height": null,
            "min_width": null,
            "object_fit": null,
            "object_position": null,
            "order": null,
            "overflow": null,
            "overflow_x": null,
            "overflow_y": null,
            "padding": null,
            "right": null,
            "top": null,
            "visibility": null,
            "width": null
          }
        },
        "8d7128be0f0a491ba8fdfe820c6f3e27": {
          "model_module": "@jupyter-widgets/controls",
          "model_name": "DescriptionStyleModel",
          "model_module_version": "1.5.0",
          "state": {
            "_model_module": "@jupyter-widgets/controls",
            "_model_module_version": "1.5.0",
            "_model_name": "DescriptionStyleModel",
            "_view_count": null,
            "_view_module": "@jupyter-widgets/base",
            "_view_module_version": "1.2.0",
            "_view_name": "StyleView",
            "description_width": ""
          }
        },
        "19fcf58461c044b0b9df4cf279fdf73b": {
          "model_module": "@jupyter-widgets/controls",
          "model_name": "HBoxModel",
          "model_module_version": "1.5.0",
          "state": {
            "_dom_classes": [],
            "_model_module": "@jupyter-widgets/controls",
            "_model_module_version": "1.5.0",
            "_model_name": "HBoxModel",
            "_view_count": null,
            "_view_module": "@jupyter-widgets/controls",
            "_view_module_version": "1.5.0",
            "_view_name": "HBoxView",
            "box_style": "",
            "children": [
              "IPY_MODEL_98614fb87cba47628b253684d0c53ab9",
              "IPY_MODEL_71d9400f00f64132bc2a688dfd3cfbf7",
              "IPY_MODEL_f75dc6820f874d5192b502fe2a741712"
            ],
            "layout": "IPY_MODEL_a74714cfa5b24367a84e96a672213d1e"
          }
        },
        "98614fb87cba47628b253684d0c53ab9": {
          "model_module": "@jupyter-widgets/controls",
          "model_name": "HTMLModel",
          "model_module_version": "1.5.0",
          "state": {
            "_dom_classes": [],
            "_model_module": "@jupyter-widgets/controls",
            "_model_module_version": "1.5.0",
            "_model_name": "HTMLModel",
            "_view_count": null,
            "_view_module": "@jupyter-widgets/controls",
            "_view_module_version": "1.5.0",
            "_view_name": "HTMLView",
            "description": "",
            "description_tooltip": null,
            "layout": "IPY_MODEL_3593518e468542bb848e83ecf012ca6a",
            "placeholder": "​",
            "style": "IPY_MODEL_a32a32678d1e4dba9238061f4d0672c0",
            "value": "Downloading builder script: 100%"
          }
        },
        "71d9400f00f64132bc2a688dfd3cfbf7": {
          "model_module": "@jupyter-widgets/controls",
          "model_name": "FloatProgressModel",
          "model_module_version": "1.5.0",
          "state": {
            "_dom_classes": [],
            "_model_module": "@jupyter-widgets/controls",
            "_model_module_version": "1.5.0",
            "_model_name": "FloatProgressModel",
            "_view_count": null,
            "_view_module": "@jupyter-widgets/controls",
            "_view_module_version": "1.5.0",
            "_view_name": "ProgressView",
            "bar_style": "success",
            "description": "",
            "description_tooltip": null,
            "layout": "IPY_MODEL_32b01d751f254c57bf0097ccdc285daf",
            "max": 6927,
            "min": 0,
            "orientation": "horizontal",
            "style": "IPY_MODEL_8e2a1ad51b3241e7b081283db1f81865",
            "value": 6927
          }
        },
        "f75dc6820f874d5192b502fe2a741712": {
          "model_module": "@jupyter-widgets/controls",
          "model_name": "HTMLModel",
          "model_module_version": "1.5.0",
          "state": {
            "_dom_classes": [],
            "_model_module": "@jupyter-widgets/controls",
            "_model_module_version": "1.5.0",
            "_model_name": "HTMLModel",
            "_view_count": null,
            "_view_module": "@jupyter-widgets/controls",
            "_view_module_version": "1.5.0",
            "_view_name": "HTMLView",
            "description": "",
            "description_tooltip": null,
            "layout": "IPY_MODEL_8853f98f2aba4a6faa5031a49ea53749",
            "placeholder": "​",
            "style": "IPY_MODEL_6489db371c17483aaf5182f086f59f46",
            "value": " 6.93k/6.93k [00:00&lt;00:00, 95.0kB/s]"
          }
        },
        "a74714cfa5b24367a84e96a672213d1e": {
          "model_module": "@jupyter-widgets/base",
          "model_name": "LayoutModel",
          "model_module_version": "1.2.0",
          "state": {
            "_model_module": "@jupyter-widgets/base",
            "_model_module_version": "1.2.0",
            "_model_name": "LayoutModel",
            "_view_count": null,
            "_view_module": "@jupyter-widgets/base",
            "_view_module_version": "1.2.0",
            "_view_name": "LayoutView",
            "align_content": null,
            "align_items": null,
            "align_self": null,
            "border": null,
            "bottom": null,
            "display": null,
            "flex": null,
            "flex_flow": null,
            "grid_area": null,
            "grid_auto_columns": null,
            "grid_auto_flow": null,
            "grid_auto_rows": null,
            "grid_column": null,
            "grid_gap": null,
            "grid_row": null,
            "grid_template_areas": null,
            "grid_template_columns": null,
            "grid_template_rows": null,
            "height": null,
            "justify_content": null,
            "justify_items": null,
            "left": null,
            "margin": null,
            "max_height": null,
            "max_width": null,
            "min_height": null,
            "min_width": null,
            "object_fit": null,
            "object_position": null,
            "order": null,
            "overflow": null,
            "overflow_x": null,
            "overflow_y": null,
            "padding": null,
            "right": null,
            "top": null,
            "visibility": null,
            "width": null
          }
        },
        "3593518e468542bb848e83ecf012ca6a": {
          "model_module": "@jupyter-widgets/base",
          "model_name": "LayoutModel",
          "model_module_version": "1.2.0",
          "state": {
            "_model_module": "@jupyter-widgets/base",
            "_model_module_version": "1.2.0",
            "_model_name": "LayoutModel",
            "_view_count": null,
            "_view_module": "@jupyter-widgets/base",
            "_view_module_version": "1.2.0",
            "_view_name": "LayoutView",
            "align_content": null,
            "align_items": null,
            "align_self": null,
            "border": null,
            "bottom": null,
            "display": null,
            "flex": null,
            "flex_flow": null,
            "grid_area": null,
            "grid_auto_columns": null,
            "grid_auto_flow": null,
            "grid_auto_rows": null,
            "grid_column": null,
            "grid_gap": null,
            "grid_row": null,
            "grid_template_areas": null,
            "grid_template_columns": null,
            "grid_template_rows": null,
            "height": null,
            "justify_content": null,
            "justify_items": null,
            "left": null,
            "margin": null,
            "max_height": null,
            "max_width": null,
            "min_height": null,
            "min_width": null,
            "object_fit": null,
            "object_position": null,
            "order": null,
            "overflow": null,
            "overflow_x": null,
            "overflow_y": null,
            "padding": null,
            "right": null,
            "top": null,
            "visibility": null,
            "width": null
          }
        },
        "a32a32678d1e4dba9238061f4d0672c0": {
          "model_module": "@jupyter-widgets/controls",
          "model_name": "DescriptionStyleModel",
          "model_module_version": "1.5.0",
          "state": {
            "_model_module": "@jupyter-widgets/controls",
            "_model_module_version": "1.5.0",
            "_model_name": "DescriptionStyleModel",
            "_view_count": null,
            "_view_module": "@jupyter-widgets/base",
            "_view_module_version": "1.2.0",
            "_view_name": "StyleView",
            "description_width": ""
          }
        },
        "32b01d751f254c57bf0097ccdc285daf": {
          "model_module": "@jupyter-widgets/base",
          "model_name": "LayoutModel",
          "model_module_version": "1.2.0",
          "state": {
            "_model_module": "@jupyter-widgets/base",
            "_model_module_version": "1.2.0",
            "_model_name": "LayoutModel",
            "_view_count": null,
            "_view_module": "@jupyter-widgets/base",
            "_view_module_version": "1.2.0",
            "_view_name": "LayoutView",
            "align_content": null,
            "align_items": null,
            "align_self": null,
            "border": null,
            "bottom": null,
            "display": null,
            "flex": null,
            "flex_flow": null,
            "grid_area": null,
            "grid_auto_columns": null,
            "grid_auto_flow": null,
            "grid_auto_rows": null,
            "grid_column": null,
            "grid_gap": null,
            "grid_row": null,
            "grid_template_areas": null,
            "grid_template_columns": null,
            "grid_template_rows": null,
            "height": null,
            "justify_content": null,
            "justify_items": null,
            "left": null,
            "margin": null,
            "max_height": null,
            "max_width": null,
            "min_height": null,
            "min_width": null,
            "object_fit": null,
            "object_position": null,
            "order": null,
            "overflow": null,
            "overflow_x": null,
            "overflow_y": null,
            "padding": null,
            "right": null,
            "top": null,
            "visibility": null,
            "width": null
          }
        },
        "8e2a1ad51b3241e7b081283db1f81865": {
          "model_module": "@jupyter-widgets/controls",
          "model_name": "ProgressStyleModel",
          "model_module_version": "1.5.0",
          "state": {
            "_model_module": "@jupyter-widgets/controls",
            "_model_module_version": "1.5.0",
            "_model_name": "ProgressStyleModel",
            "_view_count": null,
            "_view_module": "@jupyter-widgets/base",
            "_view_module_version": "1.2.0",
            "_view_name": "StyleView",
            "bar_color": null,
            "description_width": ""
          }
        },
        "8853f98f2aba4a6faa5031a49ea53749": {
          "model_module": "@jupyter-widgets/base",
          "model_name": "LayoutModel",
          "model_module_version": "1.2.0",
          "state": {
            "_model_module": "@jupyter-widgets/base",
            "_model_module_version": "1.2.0",
            "_model_name": "LayoutModel",
            "_view_count": null,
            "_view_module": "@jupyter-widgets/base",
            "_view_module_version": "1.2.0",
            "_view_name": "LayoutView",
            "align_content": null,
            "align_items": null,
            "align_self": null,
            "border": null,
            "bottom": null,
            "display": null,
            "flex": null,
            "flex_flow": null,
            "grid_area": null,
            "grid_auto_columns": null,
            "grid_auto_flow": null,
            "grid_auto_rows": null,
            "grid_column": null,
            "grid_gap": null,
            "grid_row": null,
            "grid_template_areas": null,
            "grid_template_columns": null,
            "grid_template_rows": null,
            "height": null,
            "justify_content": null,
            "justify_items": null,
            "left": null,
            "margin": null,
            "max_height": null,
            "max_width": null,
            "min_height": null,
            "min_width": null,
            "object_fit": null,
            "object_position": null,
            "order": null,
            "overflow": null,
            "overflow_x": null,
            "overflow_y": null,
            "padding": null,
            "right": null,
            "top": null,
            "visibility": null,
            "width": null
          }
        },
        "6489db371c17483aaf5182f086f59f46": {
          "model_module": "@jupyter-widgets/controls",
          "model_name": "DescriptionStyleModel",
          "model_module_version": "1.5.0",
          "state": {
            "_model_module": "@jupyter-widgets/controls",
            "_model_module_version": "1.5.0",
            "_model_name": "DescriptionStyleModel",
            "_view_count": null,
            "_view_module": "@jupyter-widgets/base",
            "_view_module_version": "1.2.0",
            "_view_name": "StyleView",
            "description_width": ""
          }
        }
      }
    },
    "accelerator": "GPU"
  },
  "cells": [
    {
      "cell_type": "markdown",
      "source": [
        "# File processing"
      ],
      "metadata": {
        "id": "lw56Y0epEX6m"
      }
    },
    {
      "cell_type": "code",
      "source": [
        "!rm -rf '/content/obj_features'\n",
        "!rm -rf '/content/ocr_features'\n",
        "!rm -rf '/content/failed_data'"
      ],
      "metadata": {
        "id": "27T-iPMkOGfu"
      },
      "execution_count": null,
      "outputs": []
    },
    {
      "cell_type": "code",
      "source": [
        "import os\n",
        "import glob\n",
        "import shutil\n",
        "from tqdm.auto import tqdm\n",
        "from zipfile import ZipFile\n",
        "import numpy as np"
      ],
      "metadata": {
        "id": "Fx2iVXtmEccw"
      },
      "execution_count": null,
      "outputs": []
    },
    {
      "cell_type": "code",
      "source": [
        "ocr_path = '/content/drive/MyDrive/UIT/DS201_DO_AN/ViTextCap Data/OCR'\n",
        "extract_ocr_folder_path = 'ocr_features'\n",
        "\n",
        "# Create folder\n",
        "if not os.path.isdir(extract_ocr_folder_path):\n",
        "  os.mkdir(extract_ocr_folder_path)\n",
        "\n",
        "# Unzip\n",
        "ocr_zipfiles = glob.glob(ocr_path + '/*.zip')\n",
        "\n",
        "for path in tqdm(ocr_zipfiles):\n",
        "  with ZipFile(path, 'r') as zip_ref:\n",
        "      zip_ref.extractall(extract_ocr_folder_path)"
      ],
      "metadata": {
        "colab": {
          "base_uri": "https://localhost:8080/",
          "height": 49,
          "referenced_widgets": [
            "262c5d1733e545f4b81b58f7a780a8bc",
            "3a312f5b7b9647cdb601895b5d809890",
            "4fe60b6b69da464195f4090f1fe5387d",
            "2ce556a38e964817b7d9fb43ab57a11b",
            "0f2d87fd72284668b80cf354cddd3ee2",
            "32e86099db4f49508134521c4ea02ad0",
            "c5a6263a53ec4eba97f79424ea42a2c8",
            "ddd950acce51496c8c58b008abf637f7",
            "83554696b3e64cdd8060f7a229ca34fe",
            "38322d6e4bb6467db953471ba1731985",
            "593de7f690c14cbdb709a08c2b3b6cda"
          ]
        },
        "id": "fOxk6bNYEfBK",
        "outputId": "777f325f-ae9d-4eac-f8a4-7e74e3065549"
      },
      "execution_count": null,
      "outputs": [
        {
          "output_type": "display_data",
          "data": {
            "text/plain": [
              "  0%|          | 0/4 [00:00<?, ?it/s]"
            ],
            "application/vnd.jupyter.widget-view+json": {
              "version_major": 2,
              "version_minor": 0,
              "model_id": "262c5d1733e545f4b81b58f7a780a8bc"
            }
          },
          "metadata": {}
        }
      ]
    },
    {
      "cell_type": "code",
      "source": [
        "obj_path = '/content/drive/MyDrive/UIT/DS201_DO_AN/ViTextCap Data/Object_Detection'\n",
        "extract_obj_folder_path = 'obj_features'\n",
        "\n",
        "# Create folder\n",
        "if not os.path.isdir(extract_obj_folder_path):\n",
        "  os.mkdir(extract_obj_folder_path)\n",
        "\n",
        "# Unzip\n",
        "obj_zipfiles = glob.glob(obj_path + '/*.zip') + glob.glob('/content/drive/MyDrive/UIT/DS201_DO_AN/ViTextCap Data/Object_Detection/Object_Detection_Huy/*.zip')\n",
        "\n",
        "for path in tqdm(obj_zipfiles):\n",
        "  with ZipFile(path, 'r') as zip_ref:\n",
        "      zip_ref.extractall(extract_obj_folder_path)"
      ],
      "metadata": {
        "colab": {
          "base_uri": "https://localhost:8080/",
          "height": 49,
          "referenced_widgets": [
            "7177684525ab4025bf61d968e2ae1cd1",
            "bd3ab9261595490592d6b20d138a57ee",
            "9fcb0bb24cbe40768b957e35fb4722ce",
            "42c8925e26ed4cbd976562ceeaf4878a",
            "cf5c219f91eb4d0ab2f5bb02843a5b59",
            "8d1bd216ca3d470681f0a7d70d290361",
            "c52eb3f4ff2f4d8fa3345589ba7c2be7",
            "46251ec289394be1b7c783ef65682c3e",
            "671eede2708f4022a4c246785038abd0",
            "d8b14a28a1354ee8825155e6dc91b61f",
            "390879987dc8496b85f7c8d1b311036b"
          ]
        },
        "id": "zQi9IcbfFxA1",
        "outputId": "448d9450-8d41-4e30-c931-a53fe1336a7a"
      },
      "execution_count": null,
      "outputs": [
        {
          "output_type": "display_data",
          "data": {
            "text/plain": [
              "  0%|          | 0/13 [00:00<?, ?it/s]"
            ],
            "application/vnd.jupyter.widget-view+json": {
              "version_major": 2,
              "version_minor": 0,
              "model_id": "7177684525ab4025bf61d968e2ae1cd1"
            }
          },
          "metadata": {}
        }
      ]
    },
    {
      "cell_type": "code",
      "source": [
        "a = glob.glob('/content/obj_features/Object_Features/*')\n",
        "for zipf in a:\n",
        "  with ZipFile(zipf, 'r') as zip_ref:\n",
        "      zip_ref.extractall(extract_obj_folder_path)"
      ],
      "metadata": {
        "id": "-0D-osy5OSeL"
      },
      "execution_count": null,
      "outputs": []
    },
    {
      "cell_type": "code",
      "source": [
        "!rm -rf '/content/obj_features/Object_Features'"
      ],
      "metadata": {
        "id": "TsN1H6XPOXBg"
      },
      "execution_count": null,
      "outputs": []
    },
    {
      "cell_type": "code",
      "source": [
        "len(os.listdir('/content/obj_features')), len(os.listdir('/content/ocr_features'))"
      ],
      "metadata": {
        "id": "CMI9Mb5TYR2Y",
        "colab": {
          "base_uri": "https://localhost:8080/"
        },
        "outputId": "0c000524-2d8b-48ac-91ca-bd348b0f164e"
      },
      "execution_count": null,
      "outputs": [
        {
          "output_type": "execute_result",
          "data": {
            "text/plain": [
              "(13108, 9540)"
            ]
          },
          "metadata": {},
          "execution_count": 52
        }
      ]
    },
    {
      "cell_type": "code",
      "source": [
        "# !mkdir clean_obj_features\n",
        "# !mkdir clean_ocr_features\n",
        "!mkdir failed_data"
      ],
      "metadata": {
        "id": "Cq_MP23KH1yH"
      },
      "execution_count": null,
      "outputs": []
    },
    {
      "cell_type": "code",
      "source": [
        "len(glob.glob('/content/obj_features/*.npy'))"
      ],
      "metadata": {
        "colab": {
          "base_uri": "https://localhost:8080/"
        },
        "id": "IOtyn3IgQ45w",
        "outputId": "d1d589ee-cb01-4ca8-b2c6-e0e7b2a1a967"
      },
      "execution_count": null,
      "outputs": [
        {
          "output_type": "execute_result",
          "data": {
            "text/plain": [
              "13108"
            ]
          },
          "metadata": {},
          "execution_count": 59
        }
      ]
    },
    {
      "cell_type": "code",
      "source": [
        "len(glob.glob('/content/ocr_features/*.npy'))"
      ],
      "metadata": {
        "colab": {
          "base_uri": "https://localhost:8080/"
        },
        "id": "yIFKT2KMPLHP",
        "outputId": "6b82d441-4235-410a-847f-e1c208f9f93b"
      },
      "execution_count": null,
      "outputs": [
        {
          "output_type": "execute_result",
          "data": {
            "text/plain": [
              "7155"
            ]
          },
          "metadata": {},
          "execution_count": 54
        }
      ]
    },
    {
      "cell_type": "code",
      "source": [
        "len(glob.glob('/content/ocr_features/*.jpg'))"
      ],
      "metadata": {
        "colab": {
          "base_uri": "https://localhost:8080/"
        },
        "id": "Ru6iUZWiPQ02",
        "outputId": "1ec88048-102b-422b-8dea-acc3ef0fbb2d"
      },
      "execution_count": null,
      "outputs": [
        {
          "output_type": "execute_result",
          "data": {
            "text/plain": [
              "2385"
            ]
          },
          "metadata": {},
          "execution_count": 55
        }
      ]
    },
    {
      "cell_type": "code",
      "source": [
        "os.listdir('ocr_features')[:10]"
      ],
      "metadata": {
        "colab": {
          "base_uri": "https://localhost:8080/"
        },
        "id": "TqRgfHkKPy6I",
        "outputId": "e5ef2d50-02cb-4840-8fb8-8aefa0aaa77a"
      },
      "execution_count": null,
      "outputs": [
        {
          "output_type": "execute_result",
          "data": {
            "text/plain": [
              "['000000019783.npy',\n",
              " '00000019258.npy',\n",
              " '00000015587.jpg',\n",
              " '00000017121.npy',\n",
              " '000000007524.npy',\n",
              " '000000003268.npy',\n",
              " '00000004090.npy',\n",
              " '000000006822.jpg',\n",
              " '00000019595.npy',\n",
              " '00000002879.jpg']"
            ]
          },
          "metadata": {},
          "execution_count": 58
        }
      ]
    },
    {
      "cell_type": "code",
      "source": [
        "a = glob.glob('/content/obj_features/*_info.npy')"
      ],
      "metadata": {
        "id": "Fsi0XVOgSJ3M"
      },
      "execution_count": null,
      "outputs": []
    },
    {
      "cell_type": "code",
      "source": [
        "ocr_"
      ],
      "metadata": {
        "id": "NQ8Cdkr9YzHK"
      },
      "execution_count": null,
      "outputs": []
    },
    {
      "cell_type": "code",
      "source": [],
      "metadata": {
        "id": "5a9pupk9Y1IY"
      },
      "execution_count": null,
      "outputs": []
    },
    {
      "cell_type": "code",
      "source": [
        "info_names = []\n",
        "feat_names = []\n",
        "\n",
        "for path in os.listdir('obj_features'):\n",
        "  name = path.split('.')[0]\n",
        "\n",
        "  if '_info' in name:\n",
        "    info_names.append(name.split('_info')[0])\n",
        "  else:\n",
        "    feat_names.append(name)\n",
        "\n",
        "len(info_names), len(feat_names)"
      ],
      "metadata": {
        "colab": {
          "base_uri": "https://localhost:8080/"
        },
        "id": "4fuZ3_soQlkW",
        "outputId": "46f692c2-b044-4f3c-a3b8-9bc74555be81"
      },
      "execution_count": null,
      "outputs": [
        {
          "output_type": "execute_result",
          "data": {
            "text/plain": [
              "(6554, 6554)"
            ]
          },
          "metadata": {},
          "execution_count": 70
        }
      ]
    },
    {
      "cell_type": "code",
      "source": [
        "set(info_names) == set(feat_names)"
      ],
      "metadata": {
        "colab": {
          "base_uri": "https://localhost:8080/"
        },
        "id": "LpDxmaL8Reb1",
        "outputId": "d45d0bf6-d754-4e20-f038-18a767be359e"
      },
      "execution_count": null,
      "outputs": [
        {
          "output_type": "execute_result",
          "data": {
            "text/plain": [
              "True"
            ]
          },
          "metadata": {},
          "execution_count": 71
        }
      ]
    },
    {
      "cell_type": "code",
      "source": [
        "for path in os.listdir('ocr_features'):\n",
        "\n",
        "  id, ftype = path.split('.')\n",
        "  checkin = id in feat_names\n",
        "\n",
        "  if ftype == 'npy' and checkin:\n",
        "    shutil.move('ocr_features/' + path, '/content/clean_ocr_features')\n",
        "    shutil.move('obj_features/' + path, '/content/clean_obj_features')\n",
        "    shutil.move('obj_features/' + id + '_info.npy', '/content/clean_obj_features')"
      ],
      "metadata": {
        "id": "OUpJ0YhxO8FD"
      },
      "execution_count": null,
      "outputs": []
    },
    {
      "cell_type": "code",
      "source": [
        "len(os.listdir('/content/clean_obj_features')), len(os.listdir('/content/clean_ocr_features'))"
      ],
      "metadata": {
        "colab": {
          "base_uri": "https://localhost:8080/"
        },
        "id": "nAEQM6AfTRi8",
        "outputId": "8e446f92-cead-4aea-de07-47eb843b8f15"
      },
      "execution_count": null,
      "outputs": [
        {
          "output_type": "execute_result",
          "data": {
            "text/plain": [
              "(10578, 5289)"
            ]
          },
          "metadata": {},
          "execution_count": 73
        }
      ]
    },
    {
      "cell_type": "code",
      "source": [
        "len(glob.glob('clean_obj_features/*_info.npy'))"
      ],
      "metadata": {
        "colab": {
          "base_uri": "https://localhost:8080/"
        },
        "id": "AlSowMjzTbGK",
        "outputId": "7244c215-bfec-45d9-f594-9fe94995c3d5"
      },
      "execution_count": null,
      "outputs": [
        {
          "output_type": "execute_result",
          "data": {
            "text/plain": [
              "5289"
            ]
          },
          "metadata": {},
          "execution_count": 77
        }
      ]
    },
    {
      "cell_type": "code",
      "source": [
        "shutil.make_archive('/content/drive/MyDrive/UIT/DS201_DO_AN/ViTextCap Data/OCR/combine_ocr_features', 'zip', '/content/clean_ocr_features')\n",
        "shutil.make_archive('/content/drive/MyDrive/UIT/DS201_DO_AN/ViTextCap Data/Object_Detection/combine_obj_features', 'zip', '/content/clean_obj_features')"
      ],
      "metadata": {
        "colab": {
          "base_uri": "https://localhost:8080/",
          "height": 36
        },
        "id": "7Pz4oVc0TgBY",
        "outputId": "51ac715e-67d4-409b-b224-336f2c0449f6"
      },
      "execution_count": null,
      "outputs": [
        {
          "output_type": "execute_result",
          "data": {
            "text/plain": [
              "'/content/drive/MyDrive/UIT/DS201_DO_AN/ViTextCap Data/Object_Detection/combine_obj_features.zip'"
            ],
            "application/vnd.google.colaboratory.intrinsic+json": {
              "type": "string"
            }
          },
          "metadata": {},
          "execution_count": 76
        }
      ]
    },
    {
      "cell_type": "markdown",
      "source": [
        "# Create Dataset"
      ],
      "metadata": {
        "id": "1v_QMIptYHaQ"
      }
    },
    {
      "cell_type": "code",
      "source": [
        "from google.colab import drive\n",
        "drive.mount('/content/drive')"
      ],
      "metadata": {
        "colab": {
          "base_uri": "https://localhost:8080/"
        },
        "id": "v45nSQIZ59t8",
        "outputId": "3c4f7c4e-bb9d-42ec-92c4-90f566393b16"
      },
      "execution_count": null,
      "outputs": [
        {
          "output_type": "stream",
          "name": "stdout",
          "text": [
            "Mounted at /content/drive\n"
          ]
        }
      ]
    },
    {
      "cell_type": "code",
      "source": [],
      "metadata": {
        "id": "r2KqvTB6W58b"
      },
      "execution_count": null,
      "outputs": []
    },
    {
      "cell_type": "code",
      "source": [
        "!pip install -q transformers\n",
        "!pip install -q evaluate\n",
        "!pip install -q rouge_score\n",
        "!pip install --upgrade nltk\n",
        "!pip install -q git+https://github.com/salaniz/pycocoevalcap.git"
      ],
      "metadata": {
        "id": "DYWjX5KcgAEj",
        "colab": {
          "base_uri": "https://localhost:8080/"
        },
        "outputId": "228ab3f4-36f4-4716-c749-0530be73aea0"
      },
      "execution_count": null,
      "outputs": [
        {
          "output_type": "stream",
          "name": "stdout",
          "text": [
            "\u001b[2K     \u001b[90m━━━━━━━━━━━━━━━━━━━━━━━━━━━━━━━━━━━━━━━━\u001b[0m \u001b[32m84.1/84.1 kB\u001b[0m \u001b[31m886.3 kB/s\u001b[0m eta \u001b[36m0:00:00\u001b[0m\n",
            "\u001b[2K     \u001b[90m━━━━━━━━━━━━━━━━━━━━━━━━━━━━━━━━━━━━━━━━\u001b[0m \u001b[32m507.1/507.1 kB\u001b[0m \u001b[31m5.1 MB/s\u001b[0m eta \u001b[36m0:00:00\u001b[0m\n",
            "\u001b[2K     \u001b[90m━━━━━━━━━━━━━━━━━━━━━━━━━━━━━━━━━━━━━━━━\u001b[0m \u001b[32m115.3/115.3 kB\u001b[0m \u001b[31m8.7 MB/s\u001b[0m eta \u001b[36m0:00:00\u001b[0m\n",
            "\u001b[2K     \u001b[90m━━━━━━━━━━━━━━━━━━━━━━━━━━━━━━━━━━━━━━━━\u001b[0m \u001b[32m134.8/134.8 kB\u001b[0m \u001b[31m11.5 MB/s\u001b[0m eta \u001b[36m0:00:00\u001b[0m\n",
            "\u001b[?25h  Preparing metadata (setup.py) ... \u001b[?25l\u001b[?25hdone\n",
            "  Building wheel for rouge_score (setup.py) ... \u001b[?25l\u001b[?25hdone\n",
            "Requirement already satisfied: nltk in /usr/local/lib/python3.10/dist-packages (3.8.1)\n",
            "Requirement already satisfied: click in /usr/local/lib/python3.10/dist-packages (from nltk) (8.1.7)\n",
            "Requirement already satisfied: joblib in /usr/local/lib/python3.10/dist-packages (from nltk) (1.3.2)\n",
            "Requirement already satisfied: regex>=2021.8.3 in /usr/local/lib/python3.10/dist-packages (from nltk) (2023.6.3)\n",
            "Requirement already satisfied: tqdm in /usr/local/lib/python3.10/dist-packages (from nltk) (4.66.1)\n",
            "  Preparing metadata (setup.py) ... \u001b[?25l\u001b[?25hdone\n",
            "  Building wheel for pycocoevalcap (setup.py) ... \u001b[?25l\u001b[?25hdone\n"
          ]
        }
      ]
    },
    {
      "cell_type": "code",
      "source": [
        "# !mkdir obj_features\n",
        "# !mkdir ocr_features\n",
        "\n",
        "!unzip -q '/content/drive/MyDrive/UIT/DS201_DO_AN/ViTextCap_Data/Object_Detection/combine_obj_features.zip' -d obj_features\n",
        "!unzip -q '/content/drive/MyDrive/UIT/DS201_DO_AN/ViTextCap_Data/OCR/combine_ocr_features.zip' -d ocr_features"
      ],
      "metadata": {
        "id": "EqJJT4PI8RA7"
      },
      "execution_count": null,
      "outputs": []
    },
    {
      "cell_type": "code",
      "source": [
        "!git clone https://github.com/21522062/ViTextCaps.git"
      ],
      "metadata": {
        "colab": {
          "base_uri": "https://localhost:8080/"
        },
        "id": "8MRsyFr65GWx",
        "outputId": "b535f302-b98c-4f51-ae99-9b26d1cc2804"
      },
      "execution_count": null,
      "outputs": [
        {
          "output_type": "stream",
          "name": "stdout",
          "text": [
            "Cloning into 'ViTextCaps'...\n",
            "remote: Enumerating objects: 5, done.\u001b[K\n",
            "remote: Counting objects: 100% (5/5), done.\u001b[K\n",
            "remote: Compressing objects: 100% (3/3), done.\u001b[K\n",
            "remote: Total 5 (delta 0), reused 5 (delta 0), pack-reused 0\u001b[K\n",
            "Receiving objects: 100% (5/5), 5.91 KiB | 5.91 MiB/s, done.\n"
          ]
        }
      ]
    },
    {
      "cell_type": "code",
      "source": [
        "from ViTextCaps.model.m4c import M4C"
      ],
      "metadata": {
        "id": "Guheu8RO5r_Q"
      },
      "execution_count": null,
      "outputs": []
    },
    {
      "cell_type": "code",
      "source": [
        "import glob\n",
        "import nltk\n",
        "import math\n",
        "import torch\n",
        "import numpy as np\n",
        "from torch import nn\n",
        "from random import choice\n",
        "from tqdm.auto import tqdm\n",
        "from pycocoevalcap.cider.cider import Cider\n",
        "import torch.nn.functional as F\n",
        "from torch.utils.data import Dataset\n",
        "from nltk.tokenize import word_tokenize\n",
        "from torch.nn.utils.rnn import pad_sequence\n",
        "from transformers import AutoTokenizer, AutoModel\n",
        "from sklearn.model_selection import train_test_split\n",
        "nltk.download('punkt')\n",
        "\n",
        "class ViTextCapsDataset(Dataset):\n",
        "  def __init__(self, tokenizer, obj_features_folder=None, ocr_features_folder=None, fasttext_token=None, caption_file=None, convert_obj_bbx=True, data=None, mask_value=64000.0):\n",
        "\n",
        "    self.convert_obj_bbx = convert_obj_bbx\n",
        "    self.tokenizer = tokenizer\n",
        "    self.mask_value = mask_value\n",
        "    self.dummy_tensor = torch.ones((1, 300))\n",
        "\n",
        "    # if data is None all others argument cant be None\n",
        "    assert (obj_features_folder is not None and ocr_features_folder is not None \\\n",
        "    and fasttext_token is not None and caption_file is not None) or data is not None, \"All other arguments must be passed if data is None!\"\n",
        "\n",
        "    if data is None:\n",
        "      self.load_data(obj_features_folder, ocr_features_folder, fasttext_token, caption_file)\n",
        "    else:\n",
        "      self.data = data.copy()\n",
        "\n",
        "  def load_data(self, obj_features_folder, ocr_features_folder, fasttext_token, caption_file):\n",
        "    self.data = []\n",
        "\n",
        "    # Setup the total feature file\n",
        "    data_paths = glob.glob(ocr_features_folder + '/*')\n",
        "    fasttext_token_ = np.load(fasttext_token, allow_pickle=True).tolist()\n",
        "    captions = np.load(caption_file, allow_pickle=True).tolist()\n",
        "\n",
        "    for path in tqdm(data_paths, desc='Load Data'):\n",
        "\n",
        "      # Load the feature from each file\n",
        "      image_name = path.split('/')[-1].split('.')[0]\n",
        "      ocr_feature = np.load(ocr_features_folder + '/' + image_name + '.npy', allow_pickle=True).tolist()\n",
        "      obj_info = np.load(obj_features_folder + '/' + image_name + '_info.npy', allow_pickle=True).tolist()\n",
        "      obj_feature = np.load(obj_features_folder + '/' + image_name + '.npy')\n",
        "\n",
        "      try:\n",
        "        caption_list = captions[image_name]\n",
        "      except:\n",
        "        continue\n",
        "\n",
        "      sample = {\n",
        "          'id': image_name,\n",
        "          'captions': caption_list,\n",
        "\n",
        "          'ocr': {\n",
        "              'boxes': ocr_feature['boxes'],\n",
        "              'scores': ocr_feature['scores'], # The confidence score of the model's prediction\n",
        "              'size': (ocr_feature['weight'], ocr_feature['height']), # xmin, ymin, xmax, ymax\n",
        "              'texts': ocr_feature['texts'],\n",
        "              'fasttext_token': fasttext_token_[image_name],\n",
        "              'rec_features': ocr_feature['rec_features'],\n",
        "              'det_features': ocr_feature['det_features']\n",
        "              },\n",
        "\n",
        "          'obj': {\n",
        "              'boxes': obj_info['bbox'],\n",
        "              'scores': obj_info['cls_prob'], # The confidence score of the model's prediction\n",
        "              'size': (obj_info['image_width'], obj_info['image_height']), # xmin, ymin, xmax, ymax\n",
        "              'objects': obj_info['objects'], # With int type, the object's label\n",
        "              'features': obj_feature,\n",
        "          }\n",
        "      }\n",
        "\n",
        "      if self.convert_obj_bbx:\n",
        "        for i in range(len(sample['obj']['boxes'])):\n",
        "          sample['obj']['boxes'][i] = self.convert(sample['ocr']['size'], sample['obj']['boxes'][i]) # Use ocr-size because the obj-size is already scaled\n",
        "\n",
        "      self.data.append(sample)\n",
        "\n",
        "  def convert(self, size, box):\n",
        "    # size: width, height\n",
        "    # box: xmin, ymin, xmax, ymax\n",
        "    w, h = size\n",
        "    return (box[0] / w, box[1] / h, box[2] / w, box[3] / h)\n",
        "\n",
        "  def __getitem__(self, idx):\n",
        "    sample = self.data[idx]\n",
        "    return {\n",
        "            'id': sample['id'],\n",
        "            'main_caption': sample['main_caption'],\n",
        "            'captions': sample['captions'],\n",
        "            'obj_boxes': torch.tensor(sample['obj']['boxes']),\n",
        "            'obj_features': torch.tensor(sample['obj']['features']),\n",
        "            'ocr_texts': sample['ocr']['texts'],\n",
        "            'ocr_boxes': torch.tensor(sample['ocr']['boxes']),\n",
        "            'ocr_token_embeddings': torch.tensor(sample['ocr']['fasttext_token']) if len(sample['ocr']['fasttext_token']) > 0 else self.dummy_tensor,\n",
        "            'ocr_rec_features': torch.tensor(sample['ocr']['rec_features']),\n",
        "            'ocr_det_features': torch.tensor(sample['ocr']['det_features'])\n",
        "        }\n",
        "\n",
        "  def split_data(self, validation_size, test_size, random_state=42):\n",
        "\n",
        "    test_val_size = test_size + validation_size\n",
        "\n",
        "    # Split train and evaluation set\n",
        "    train_data, test_val_data = train_test_split(self.data,\n",
        "                                                 test_size=test_val_size,\n",
        "                                                 random_state=random_state)\n",
        "\n",
        "    # Split val and test\n",
        "    val_data, test_data = train_test_split(test_val_data,\n",
        "                                           test_size=test_size / test_val_size,\n",
        "                                           random_state=random_state)\n",
        "\n",
        "    return (ViTextCapsDataset(tokenizer=self.tokenizer, mask_value=self.mask_value, data=train_data),\n",
        "            ViTextCapsDataset(tokenizer=self.tokenizer, mask_value=self.mask_value, data=val_data),\n",
        "            ViTextCapsDataset(tokenizer=self.tokenizer, mask_value=self.mask_value, data=test_data))\n",
        "\n",
        "  def __len__(self):\n",
        "    return len(self.data)\n",
        "\n",
        "  def duplicate_dataset(self):\n",
        "    dup_data = []\n",
        "\n",
        "    for sample in tqdm(self.data):\n",
        "        for i, c in enumerate(sample['captions']):\n",
        "            new_sample = sample.copy()\n",
        "            new_sample['id'] += f'_{i}'\n",
        "            new_sample['main_caption'] = c\n",
        "            dup_data.append(new_sample)\n",
        "\n",
        "    self.data = dup_data\n",
        "\n",
        "  def collate_fn(self, batch):\n",
        "\n",
        "    batch = dict(zip(batch[0].keys(), zip(*[d.values() for d in batch])))\n",
        "\n",
        "    # Convert obj list to tensor\n",
        "    obj_boxes_tensor = torch.stack(batch['obj_boxes'])\n",
        "    obj_features_tensor = torch.stack(batch['obj_features'])\n",
        "\n",
        "    # Convert ocr list to tensor\n",
        "    ocr_boxes_tensor = pad_sequence(batch['ocr_boxes'], batch_first=True, padding_value=self.mask_value)\n",
        "    ocr_token_embeddings_tensor = pad_sequence(batch['ocr_token_embeddings'], batch_first=True, padding_value=1)\n",
        "    ocr_rec_features_tensor = pad_sequence(batch['ocr_rec_features'], batch_first=True, padding_value=1)\n",
        "    ocr_det_features_tensor = pad_sequence(batch['ocr_det_features'], batch_first=True, padding_value=1)\n",
        "\n",
        "    captions_ = batch['main_caption']\n",
        "    raw_captions = batch['captions']\n",
        "    batch_id = batch['id']\n",
        "    texts_ = batch['ocr_texts']\n",
        "\n",
        "    vs = self.tokenizer.vocab_size + 1\n",
        "    labels_= []\n",
        "\n",
        "    # Captions to token\n",
        "    for i, caption in enumerate(captions_):\n",
        "      label_ = []\n",
        "\n",
        "      for token in word_tokenize(caption):\n",
        "\n",
        "          if token in texts_[i] and token not in self.tokenizer.get_vocab():\n",
        "            label_.append(texts_[i].index(token) + vs)\n",
        "          else:\n",
        "            label_ += self.tokenizer(token)['input_ids'][1: -1]\n",
        "\n",
        "      label_.append(2) # 2 is <eos> in tokenizer\n",
        "      labels_.append(torch.tensor(label_))\n",
        "\n",
        "    # Convert labels_ 2 tensor\n",
        "    labels_ = pad_sequence(labels_, batch_first=True, padding_value=1)\n",
        "\n",
        "    dec_mask = torch.ones_like(labels_)\n",
        "    dec_mask = dec_mask.masked_fill(labels_ == 1, 0) # batch_size, seq_length\n",
        "\n",
        "    # Get the ocr_attention_mask\n",
        "    ocr_attn_mask = torch.ones_like(ocr_boxes_tensor)\n",
        "    ocr_attn_mask = ocr_attn_mask.masked_fill(ocr_boxes_tensor == self.mask_value, 0)[:, :, 0] # batch_size, seq_length\n",
        "    ocr_boxes_tensor = ocr_boxes_tensor.masked_fill(ocr_boxes_tensor == self.mask_value, 1)\n",
        "\n",
        "    # Join attention_mask\n",
        "    obj_attn_mask = torch.ones(size=(obj_boxes_tensor.size(0), obj_boxes_tensor.size(1))) # batch_size, seq_length\n",
        "    join_attn_mask = torch.cat([obj_attn_mask, ocr_attn_mask, dec_mask], dim=-1)\n",
        "\n",
        "    return {\n",
        "          'id': batch_id,\n",
        "          'obj_boxes': obj_boxes_tensor,\n",
        "          'obj_features': obj_features_tensor,\n",
        "          'ocr_boxes': ocr_boxes_tensor,\n",
        "          'ocr_token_embeddings': ocr_token_embeddings_tensor,\n",
        "          'ocr_rec_features': ocr_rec_features_tensor,\n",
        "          'ocr_det_features': ocr_det_features_tensor,\n",
        "          'join_attn_mask': join_attn_mask,\n",
        "          'labels': labels_,\n",
        "          'texts': texts_,\n",
        "          'raw_captions': raw_captions\n",
        "    }"
      ],
      "metadata": {
        "id": "m6cVI5L49Z72",
        "colab": {
          "base_uri": "https://localhost:8080/"
        },
        "outputId": "f715cb02-9d18-4f74-8e40-108464f2df0d"
      },
      "execution_count": null,
      "outputs": [
        {
          "output_type": "stream",
          "name": "stderr",
          "text": [
            "[nltk_data] Downloading package punkt to /root/nltk_data...\n",
            "[nltk_data]   Package punkt is already up-to-date!\n"
          ]
        }
      ]
    },
    {
      "cell_type": "code",
      "source": [
        "import evaluate\n",
        "bleu = evaluate.load('bleu')\n",
        "rouge = evaluate.load('rouge')\n",
        "meteor = evaluate.load('meteor')\n",
        "# cider_scorer = Cider()"
      ],
      "metadata": {
        "colab": {
          "base_uri": "https://localhost:8080/",
          "height": 246,
          "referenced_widgets": [
            "f2b98681640e46a8b02a9b2ef401f73c",
            "0ceffad421c143e9a33cfc369557209a",
            "c78edb729b274f0897e2e73b80d313a3",
            "fddda07b0dbb4a9cb7052478ad6102fe",
            "929857e8175046b1bed31b43bf8322a1",
            "96dc0451a42843799a4ba649bd42fcf2",
            "c11bb8356b164a7da19c5488395681a1",
            "13afcab98ca8490d92392e47e0cd9c99",
            "f4ddb462e0894001a56892153a1fabc6",
            "ed2233ce815f406894ea7ebc1264968b",
            "749a8427f5e545749a277bee563bde6b",
            "fac397ab7b6443618108640060342364",
            "bce0adee76134178b4a88fa0b6f4873c",
            "84820fff19254c3dbf9737cc4233aa64",
            "a317c7fc9d49457ba1cc343a4a8b31d9",
            "95b15a59ca244875848aea12b3241d6e",
            "875e2c3cf5a64209b09eecc1eb1aa4a0",
            "df9aa3a9b4c144fbaf09d35bba2bff84",
            "86cfb3a127404f4fb5334c1f132788d4",
            "4e3fe6fd1aa844e58ad00672c0a29f26",
            "bcd98bb972614eac8977ac04342b2c6d",
            "a7757faf424a4de7a75ab914e151480e",
            "f67c3a69d05d44fdb8392649d4f942df",
            "bf9f0f2389614de7aa77b5760df00a7f",
            "b512a0656d534d11b73ac069ce544d41",
            "30335c4610214f9ea3ba30889e55276b",
            "c8aa5e4d7bca46e39d0aef610e04118c",
            "8a5b91440009425aa267c7248ab57762",
            "16f58d7964b946f1821903b805506b8e",
            "8f85b8e1c05f40feadb8bbe12989d541",
            "8284a89717eb4e59ad7c39479df41be5",
            "faa5fa195feb4b77a19c6b4f80485f11",
            "460037a1865046e8838ce8fca8878fed",
            "97107e2477e14f99aad9db8e750fdecd",
            "fbd1e8b76b2840258adef5350a8974ce",
            "d5a7f47cabbd44049b7f565d237415c9",
            "986e77b8b11945c4b12c33368688c172",
            "e9efad24a4b84c84893cd9819bfdb4d4",
            "3c89c0f008dc4916a2c897fb1973713c",
            "f92c1e5f092f4ddea568356193fa8a24",
            "853354d9ac984cc5b8cf2f4893d2e898",
            "f6ee6ac8eb90465cb7067a5c10757fd3",
            "8ff8cbaa192140799ca4aadfe2b1da47",
            "8d7128be0f0a491ba8fdfe820c6f3e27",
            "19fcf58461c044b0b9df4cf279fdf73b",
            "98614fb87cba47628b253684d0c53ab9",
            "71d9400f00f64132bc2a688dfd3cfbf7",
            "f75dc6820f874d5192b502fe2a741712",
            "a74714cfa5b24367a84e96a672213d1e",
            "3593518e468542bb848e83ecf012ca6a",
            "a32a32678d1e4dba9238061f4d0672c0",
            "32b01d751f254c57bf0097ccdc285daf",
            "8e2a1ad51b3241e7b081283db1f81865",
            "8853f98f2aba4a6faa5031a49ea53749",
            "6489db371c17483aaf5182f086f59f46"
          ]
        },
        "id": "03ZeijLXp7IH",
        "outputId": "97b49a7b-2d24-40cd-c69b-6b0d50039bfc"
      },
      "execution_count": null,
      "outputs": [
        {
          "output_type": "display_data",
          "data": {
            "text/plain": [
              "Downloading builder script:   0%|          | 0.00/5.94k [00:00<?, ?B/s]"
            ],
            "application/vnd.jupyter.widget-view+json": {
              "version_major": 2,
              "version_minor": 0,
              "model_id": "f2b98681640e46a8b02a9b2ef401f73c"
            }
          },
          "metadata": {}
        },
        {
          "output_type": "display_data",
          "data": {
            "text/plain": [
              "Downloading extra modules:   0%|          | 0.00/1.55k [00:00<?, ?B/s]"
            ],
            "application/vnd.jupyter.widget-view+json": {
              "version_major": 2,
              "version_minor": 0,
              "model_id": "fac397ab7b6443618108640060342364"
            }
          },
          "metadata": {}
        },
        {
          "output_type": "display_data",
          "data": {
            "text/plain": [
              "Downloading extra modules:   0%|          | 0.00/3.34k [00:00<?, ?B/s]"
            ],
            "application/vnd.jupyter.widget-view+json": {
              "version_major": 2,
              "version_minor": 0,
              "model_id": "f67c3a69d05d44fdb8392649d4f942df"
            }
          },
          "metadata": {}
        },
        {
          "output_type": "display_data",
          "data": {
            "text/plain": [
              "Downloading builder script:   0%|          | 0.00/6.27k [00:00<?, ?B/s]"
            ],
            "application/vnd.jupyter.widget-view+json": {
              "version_major": 2,
              "version_minor": 0,
              "model_id": "97107e2477e14f99aad9db8e750fdecd"
            }
          },
          "metadata": {}
        },
        {
          "output_type": "display_data",
          "data": {
            "text/plain": [
              "Downloading builder script:   0%|          | 0.00/6.93k [00:00<?, ?B/s]"
            ],
            "application/vnd.jupyter.widget-view+json": {
              "version_major": 2,
              "version_minor": 0,
              "model_id": "19fcf58461c044b0b9df4cf279fdf73b"
            }
          },
          "metadata": {}
        },
        {
          "output_type": "stream",
          "name": "stderr",
          "text": [
            "[nltk_data] Downloading package wordnet to /root/nltk_data...\n",
            "[nltk_data] Downloading package punkt to /root/nltk_data...\n",
            "[nltk_data]   Unzipping tokenizers/punkt.zip.\n",
            "[nltk_data] Downloading package omw-1.4 to /root/nltk_data...\n"
          ]
        }
      ]
    },
    {
      "cell_type": "code",
      "source": [
        "predictions = ['A black dog is playing around the park', 'This man is black']\n",
        "references = [['The black dog is playing around with there partner in the park',\n",
        "'The dog look really happy while playing around the park',\n",
        "'There is a black dog is playing in the park',\n",
        "'A dog is playing in the park']]\n",
        "\n",
        "bleu = evaluate.load(\"bleu\")\n",
        "results = bleu.compute(predictions=predictions, references=references, max_order=4)\n",
        "results"
      ],
      "metadata": {
        "colab": {
          "base_uri": "https://localhost:8080/"
        },
        "id": "-vRlsuBrY6nK",
        "outputId": "972b023f-70ff-4eb0-e5ac-26e4145ca55d"
      },
      "execution_count": null,
      "outputs": [
        {
          "output_type": "execute_result",
          "data": {
            "text/plain": [
              "{'bleu': 0.8091067115702212,\n",
              " 'precisions': [1.0, 0.8571428571428571, 0.8333333333333334, 0.6],\n",
              " 'brevity_penalty': 1.0,\n",
              " 'length_ratio': 1.1428571428571428,\n",
              " 'translation_length': 8,\n",
              " 'reference_length': 7}"
            ]
          },
          "metadata": {},
          "execution_count": 3
        }
      ]
    },
    {
      "cell_type": "code",
      "source": [
        "def calculate_precision_ngram(candidate, references, n):\n",
        "    candidate_ngrams = [tuple(candidate[i:i + n]) for i in range(len(candidate) - n + 1)]\n",
        "    reference_ngrams = [tuple(reference[i:i + n]) for reference in references for i in range(len(reference) - n + 1)]\n",
        "    print(reference_ngrams)\n",
        "\n",
        "    candidate_count = sum(1 for ngram in candidate_ngrams if ngram in reference_ngrams) # Từng\n",
        "    total_candidate_ngrams = len(candidate_ngrams)\n",
        "\n",
        "    if total_candidate_ngrams == 0:\n",
        "        precision = 0.0\n",
        "    else:\n",
        "        precision = candidate_count / total_candidate_ngrams\n",
        "\n",
        "    return precision\n",
        "\n",
        "# Example usage for unigrams (1-grams)\n",
        "candidate_tokens = ['A', 'black', 'dog', 'is', 'playing', 'around', 'the', 'park']\n",
        "reference_tokens = [\n",
        "    ['The', 'black', 'dog', 'is', 'playing', 'around', 'with', 'their', 'partner', 'in', 'the', 'park'],\n",
        "    ['The', 'dog', 'looks', 'really', 'happy', 'while', 'playing', 'around', 'the', 'park'],\n",
        "    ['There', 'is', 'a', 'black', 'dog', 'playing', 'in', 'the', 'park'],\n",
        "    ['A', 'dog', 'is', 'playing', 'in', 'the', 'park']]\n",
        "\n",
        "precision_unigrams = calculate_precision_ngram(candidate_tokens, reference_tokens, 4)\n",
        "print(f'Precision for Unigrams: {precision_unigrams}')"
      ],
      "metadata": {
        "colab": {
          "base_uri": "https://localhost:8080/"
        },
        "id": "P1uVxyOCvlcc",
        "outputId": "c7b18b0b-54e2-4b24-bc72-2291afe4895b"
      },
      "execution_count": null,
      "outputs": [
        {
          "output_type": "stream",
          "name": "stdout",
          "text": [
            "[('The', 'black', 'dog', 'is'), ('black', 'dog', 'is', 'playing'), ('dog', 'is', 'playing', 'around'), ('is', 'playing', 'around', 'with'), ('playing', 'around', 'with', 'their'), ('around', 'with', 'their', 'partner'), ('with', 'their', 'partner', 'in'), ('their', 'partner', 'in', 'the'), ('partner', 'in', 'the', 'park'), ('The', 'dog', 'looks', 'really'), ('dog', 'looks', 'really', 'happy'), ('looks', 'really', 'happy', 'while'), ('really', 'happy', 'while', 'playing'), ('happy', 'while', 'playing', 'around'), ('while', 'playing', 'around', 'the'), ('playing', 'around', 'the', 'park'), ('There', 'is', 'a', 'black'), ('is', 'a', 'black', 'dog'), ('a', 'black', 'dog', 'playing'), ('black', 'dog', 'playing', 'in'), ('dog', 'playing', 'in', 'the'), ('playing', 'in', 'the', 'park'), ('A', 'dog', 'is', 'playing'), ('dog', 'is', 'playing', 'in'), ('is', 'playing', 'in', 'the'), ('playing', 'in', 'the', 'park')]\n",
            "Precision for Unigrams: 0.6\n"
          ]
        }
      ]
    },
    {
      "cell_type": "code",
      "source": [],
      "metadata": {
        "id": "Q_fSkhZPvma8"
      },
      "execution_count": null,
      "outputs": []
    },
    {
      "cell_type": "code",
      "source": [
        "import math\n",
        "(1 * 0.8571428571428571 * 0.8333333333333334 * 0.6) ** (1/4)"
      ],
      "metadata": {
        "colab": {
          "base_uri": "https://localhost:8080/"
        },
        "id": "WIkC5df7f0mh",
        "outputId": "eec8e1e5-50cd-451e-99f9-542dc157b01c"
      },
      "execution_count": null,
      "outputs": [
        {
          "output_type": "execute_result",
          "data": {
            "text/plain": [
              "0.8091067115702212"
            ]
          },
          "metadata": {},
          "execution_count": 48
        }
      ]
    },
    {
      "cell_type": "code",
      "source": [
        "((7 + 5 + 7 + 5)/8) / 4"
      ],
      "metadata": {
        "colab": {
          "base_uri": "https://localhost:8080/"
        },
        "id": "M-hd1lKbZ799",
        "outputId": "1efb1ef0-4f00-4e93-e7f6-7850d5ab8dd4"
      },
      "execution_count": null,
      "outputs": [
        {
          "output_type": "execute_result",
          "data": {
            "text/plain": [
              "0.75"
            ]
          },
          "metadata": {},
          "execution_count": 5
        }
      ]
    },
    {
      "cell_type": "code",
      "source": [
        "tokenizer = AutoTokenizer.from_pretrained(\"vinai/phobert-base-v2\")\n",
        "phobert_model = AutoModel.from_pretrained(\"vinai/phobert-base-v2\")\n",
        "\n",
        "data = ViTextCapsDataset(tokenizer,\n",
        "                         '/content/obj_features',\n",
        "                         '/content/ocr_features',\n",
        "                         '/content/drive/MyDrive/UIT/DS201_DO_AN/ViTextCap_Data/token_fasttext_3.npy',\n",
        "                         '/content/drive/MyDrive/UIT/DS201_DO_AN/ViTextCap_Data/Preprocessed_Data/clean_captions.npy')"
      ],
      "metadata": {
        "colab": {
          "base_uri": "https://localhost:8080/",
          "height": 104,
          "referenced_widgets": [
            "5afbdf23e1c54673b33b1ca663cb9b12",
            "ee95184585f74a9d8c9102ced484021d",
            "fef6f626c011480e854b3332332c7d7e",
            "4fdf06a5c07742288a62532fbc2a9597",
            "e94f1ee5baf640d4999cd06a5e127e8e",
            "022a139cf14a4103b4068c6b01a60a49",
            "a6a3ee83155a4b4cb93a7ec4db28cc7f",
            "7c7b5d9feaa44712bb4850b450a53eca",
            "8dec86f2ed084889a3a54bcc40e096d4",
            "3c22c54045174fef8447ff55d5461416",
            "ddf5811abf934aec92cb9033de2ba242"
          ]
        },
        "id": "Tg9pNZ2eSc__",
        "outputId": "12cb9c9c-2c3f-4d07-9b0a-0a66b0dd6efd"
      },
      "execution_count": null,
      "outputs": [
        {
          "output_type": "stream",
          "name": "stderr",
          "text": [
            "Some weights of RobertaModel were not initialized from the model checkpoint at vinai/phobert-base-v2 and are newly initialized: ['roberta.pooler.dense.bias', 'roberta.pooler.dense.weight']\n",
            "You should probably TRAIN this model on a down-stream task to be able to use it for predictions and inference.\n"
          ]
        },
        {
          "output_type": "display_data",
          "data": {
            "text/plain": [
              "Load Data:   0%|          | 0/5289 [00:00<?, ?it/s]"
            ],
            "application/vnd.jupyter.widget-view+json": {
              "version_major": 2,
              "version_minor": 0,
              "model_id": "5afbdf23e1c54673b33b1ca663cb9b12"
            }
          },
          "metadata": {}
        }
      ]
    },
    {
      "cell_type": "code",
      "source": [
        "def has_duplicates2(seq):\n",
        "    seen = []\n",
        "    unique_list = [x for x in seq if x not in seen and not seen.append(x)]\n",
        "    return len(seq) != len(unique_list)"
      ],
      "metadata": {
        "id": "heliIcgFP6gF"
      },
      "execution_count": null,
      "outputs": []
    },
    {
      "cell_type": "code",
      "source": [
        "has_duplicates2(data.data)"
      ],
      "metadata": {
        "id": "1xN4SWtzP9Eh",
        "outputId": "78cdbb31-e5ab-4558-e205-018cf304e4de",
        "colab": {
          "base_uri": "https://localhost:8080/"
        }
      },
      "execution_count": null,
      "outputs": [
        {
          "output_type": "execute_result",
          "data": {
            "text/plain": [
              "False"
            ]
          },
          "metadata": {},
          "execution_count": 43
        }
      ]
    },
    {
      "cell_type": "code",
      "source": [
        "train_data, val_data, test_data = data.split_data(validation_size=0.2, test_size=0.1)"
      ],
      "metadata": {
        "id": "Vt9ltkSqH4ha"
      },
      "execution_count": null,
      "outputs": []
    },
    {
      "cell_type": "code",
      "source": [
        "len(val_data.data)"
      ],
      "metadata": {
        "colab": {
          "base_uri": "https://localhost:8080/"
        },
        "id": "DI_UrFPnhLni",
        "outputId": "a32e8478-dc94-4efd-d9a2-c9e657b8cbb0"
      },
      "execution_count": null,
      "outputs": [
        {
          "output_type": "execute_result",
          "data": {
            "text/plain": [
              "1661884"
            ]
          },
          "metadata": {},
          "execution_count": 17
        }
      ]
    },
    {
      "cell_type": "code",
      "source": [
        "len(train_data), len(val_data), len(test_data)"
      ],
      "metadata": {
        "colab": {
          "base_uri": "https://localhost:8080/"
        },
        "id": "25EHjC7KIlLV",
        "outputId": "c2314627-83e6-4a06-93d5-1e170b5396aa"
      },
      "execution_count": null,
      "outputs": [
        {
          "output_type": "execute_result",
          "data": {
            "text/plain": [
              "(3271, 935, 468)"
            ]
          },
          "metadata": {},
          "execution_count": 64
        }
      ]
    },
    {
      "cell_type": "code",
      "source": [
        "train_data.duplicate_dataset()\n",
        "val_data.duplicate_dataset()\n",
        "test_data.duplicate_dataset()"
      ],
      "metadata": {
        "colab": {
          "base_uri": "https://localhost:8080/",
          "height": 113,
          "referenced_widgets": [
            "6a2698834c904672ba5a6a2a9dc24cc8",
            "34d4c2cd05c24f8a8aa7768e403f6066",
            "3f2f5c2563814ef4a9e8e74c1ee8fa38",
            "19fb161814c44da89d371fa88eac1117",
            "a56a35b6d5dd423db3c60bfab5efbcca",
            "49537954a2504b2ea7118d2b14a5be47",
            "70ff867425e2413fab7909053a242db1",
            "0ecb3a2841624c478b4c6154da9436d7",
            "31cdb132d41a41f3a8dd04184d37eb10",
            "c117a56b7a834c918ed55c8c116d6a37",
            "658416100bb449fe957597d5c28914c8",
            "f91e31cd2ff2405b97feb2dd158ae3e0",
            "bb3d1f0901c146be8a3cd0d2ae48f1e4",
            "081159baf124494a8814c83bcb55bb32",
            "b40281a3de8f4f8985682bc20a0c0acd",
            "5cfb995d4f5b4d329b1b8609f534ef0a",
            "f58762b0e5794f44857c9b1f0a58ce95",
            "37ce79573be845e4ab4c701995946116",
            "50aaf263b2f84c9cbe1a7d1de84afebf",
            "fcca5514bb394dbb813887571556b795",
            "80c58b9d8f3244619ccb26c2f58e77d0",
            "721fe1e799bf4f1c83afe46c0b47e589",
            "c791e26b3ed344a3b6a20e80d9bd3dc1",
            "af995d720e8e4c879131fd86cdbd1150",
            "87d40f97a892411392bd6c5e1494ef91",
            "4d79583e0e71498e90e4262ad35153af",
            "cec9c641d9ac41358292e75dc67260b7",
            "34fb5ca04a39406994bc931929961130",
            "08d4b895cac9403ea67b31cfc6ef4d61",
            "9fcef8094b4746b791d9a3c56b4e0846",
            "ecbdb182069345ec93c2fd12d10688ce",
            "62fbbc1a0863423499b0ab00c07ea73e",
            "fe3e90df86554771a342ae691c226de2"
          ]
        },
        "id": "w2ZNKSYP11kQ",
        "outputId": "54639ee3-cb96-468e-df8d-8fe8c3f4517c"
      },
      "execution_count": null,
      "outputs": [
        {
          "output_type": "display_data",
          "data": {
            "text/plain": [
              "  0%|          | 0/3271 [00:00<?, ?it/s]"
            ],
            "application/vnd.jupyter.widget-view+json": {
              "version_major": 2,
              "version_minor": 0,
              "model_id": "6a2698834c904672ba5a6a2a9dc24cc8"
            }
          },
          "metadata": {}
        },
        {
          "output_type": "display_data",
          "data": {
            "text/plain": [
              "  0%|          | 0/935 [00:00<?, ?it/s]"
            ],
            "application/vnd.jupyter.widget-view+json": {
              "version_major": 2,
              "version_minor": 0,
              "model_id": "f91e31cd2ff2405b97feb2dd158ae3e0"
            }
          },
          "metadata": {}
        },
        {
          "output_type": "display_data",
          "data": {
            "text/plain": [
              "  0%|          | 0/468 [00:00<?, ?it/s]"
            ],
            "application/vnd.jupyter.widget-view+json": {
              "version_major": 2,
              "version_minor": 0,
              "model_id": "c791e26b3ed344a3b6a20e80d9bd3dc1"
            }
          },
          "metadata": {}
        }
      ]
    },
    {
      "cell_type": "code",
      "source": [
        "len(train_data), len(val_data), len(test_data)"
      ],
      "metadata": {
        "colab": {
          "base_uri": "https://localhost:8080/"
        },
        "id": "-Hz5_qQBiTjx",
        "outputId": "d0d9c7ff-eb5b-43a6-8d28-bf5a7fcbe69c"
      },
      "execution_count": null,
      "outputs": [
        {
          "output_type": "execute_result",
          "data": {
            "text/plain": [
              "(16040, 4627, 2294)"
            ]
          },
          "metadata": {},
          "execution_count": 66
        }
      ]
    },
    {
      "cell_type": "code",
      "source": [
        "from torch.utils.data import DataLoader\n",
        "train_dataloader = DataLoader(train_data, batch_size=16, shuffle=True, collate_fn=data.collate_fn)\n",
        "val_dataloader = DataLoader(val_data, batch_size=16, shuffle=False, collate_fn=data.collate_fn)\n",
        "test_dataloader = DataLoader(test_data, batch_size=16, shuffle=False, collate_fn=data.collate_fn)"
      ],
      "metadata": {
        "id": "z872qSZq94hi"
      },
      "execution_count": null,
      "outputs": []
    },
    {
      "cell_type": "code",
      "source": [
        "sample = next(iter(train_dataloader))"
      ],
      "metadata": {
        "id": "SgRNaGEYgT1i"
      },
      "execution_count": null,
      "outputs": []
    },
    {
      "cell_type": "code",
      "source": [
        "sample['labels']"
      ],
      "metadata": {
        "colab": {
          "base_uri": "https://localhost:8080/"
        },
        "id": "iy-MlPx7nX3F",
        "outputId": "be208c54-9db0-4791-b53f-ee369e69ac3d"
      },
      "execution_count": null,
      "outputs": [
        {
          "output_type": "execute_result",
          "data": {
            "text/plain": [
              "tensor([[ 1088,   713,  4368,  ...,     1,     1,     1],\n",
              "        [  189,    52, 12808,  ...,     1,     1,     1],\n",
              "        [  368,  2364,   462,  ...,     1,     1,     1],\n",
              "        ...,\n",
              "        [ 2559,  3056,    57,  ...,     1,     1,     1],\n",
              "        [   12,   711,   284,  ...,     1,     1,     1],\n",
              "        [ 3246, 44221, 64019,  ...,     1,     1,     1]])"
            ]
          },
          "metadata": {},
          "execution_count": 70
        }
      ]
    },
    {
      "cell_type": "code",
      "source": [
        "# def compute_accuracy(outputs, labels, padding_values):\n",
        "\n",
        "#   # Flatten the outputs and labels\n",
        "#   outputs_1 = outputs.reshape(-1, outputs.size(-1))\n",
        "#   labels_1 = labels.reshape(-1)\n",
        "\n",
        "#   mask = labels_1 != padding_values\n",
        "\n",
        "#   # mask the outputs and labels for calculating\n",
        "#   outputs_2 = outputs_1[mask]\n",
        "#   labels_2 = labels_1[mask]\n",
        "\n",
        "#   acc = (outputs_2.argmax(dim=-1) == labels_2).sum().item() / len(labels_2)\n",
        "\n",
        "#   return acc"
      ],
      "metadata": {
        "id": "_xB6EnV6ynnZ"
      },
      "execution_count": null,
      "outputs": []
    },
    {
      "cell_type": "code",
      "source": [
        "# ' '.join(['Con', 'chó', 'kia', 'nhìn']).lower()"
      ],
      "metadata": {
        "id": "JTKxhIeZ33u5"
      },
      "execution_count": null,
      "outputs": []
    },
    {
      "cell_type": "code",
      "source": [
        "def convert_prediction_to_ans(prediction_list, sample_texts, tokenizer):\n",
        "    raw_predicts = []\n",
        "\n",
        "    for l, text in zip(prediction_list, sample_texts):\n",
        "        raw_predict = []\n",
        "        vocab_predict = []\n",
        "\n",
        "        for w in l:\n",
        "            if w > 64000: # Kiểm tra nếu w là ocr token\n",
        "                if len(vocab_predict) > 0: # Kiểm tra nếu trước đó đã có các vocab token\n",
        "                    raw_predict.append(tokenizer.decode(vocab_predict))\n",
        "                    vocab_predict = []\n",
        "\n",
        "                raw_predict.append(text[w - 64001])\n",
        "            else:\n",
        "                vocab_predict += [w]\n",
        "\n",
        "        if len(vocab_predict) > 0:\n",
        "                raw_predict.append(tokenizer.decode(vocab_predict))\n",
        "\n",
        "        caption = ' '.join(raw_predict)\n",
        "        raw_predicts.append(caption)\n",
        "\n",
        "    return raw_predicts"
      ],
      "metadata": {
        "id": "TPKJJN-alIw5"
      },
      "execution_count": null,
      "outputs": []
    },
    {
      "cell_type": "code",
      "source": [
        "def ignore_padding(labels, outputs, padding_values):\n",
        "\n",
        "  mask = labels != padding_values\n",
        "\n",
        "  new_outputs = []\n",
        "\n",
        "  for i, each in enumerate(mask) :\n",
        "    ignore_outputs = outputs[i][each].tolist()\n",
        "    new_outputs.append(ignore_outputs)\n",
        "\n",
        "  return new_outputs"
      ],
      "metadata": {
        "id": "__V1BReWjl2S"
      },
      "execution_count": null,
      "outputs": []
    },
    {
      "cell_type": "code",
      "source": [
        "def compute_metrics(outputs, labels, padding_values, raw_captions, ocr_tokens, tokenizer):\n",
        "    batch_size, seq_length, vocab_size = outputs.size()\n",
        "\n",
        "    outputs_c = outputs.argmax(dim=-1)\n",
        "    outputs_c = ignore_padding(labels, outputs_c, padding_values)\n",
        "\n",
        "    pred_ans = convert_prediction_to_ans(outputs_c, ocr_tokens, tokenizer)\n",
        "\n",
        "    check = np.random.randn()\n",
        "    if check > 0.7:\n",
        "        print(f'prediction: {pred_ans[0]}')\n",
        "        print(f'ground-tru: {raw_captions[0][0]}')\n",
        "\n",
        "    bleu1_score = bleu.compute(predictions=pred_ans, references=raw_captions, max_order=1)['bleu']\n",
        "    bleu2_score = bleu.compute(predictions=pred_ans, references=raw_captions, max_order=2)['bleu']\n",
        "    bleu3_score = bleu.compute(predictions=pred_ans, references=raw_captions, max_order=3)['bleu']\n",
        "    bleu4_score = bleu.compute(predictions=pred_ans, references=raw_captions, max_order=4)['bleu']\n",
        "    rouge_score = rouge.compute(predictions=pred_ans, references=raw_captions)['rougeL']\n",
        "    meteor_score = meteor.compute(predictions=pred_ans, references=raw_captions)['meteor']\n",
        "\n",
        "    hypotheses_dict = {i: [h] for i, h in enumerate(pred_ans)}\n",
        "    references_dict = {i: r for i, r in enumerate(raw_captions)}\n",
        "\n",
        "    # Compute the CIDEr score\n",
        "    cider_score, _ = cider_scorer.compute_score(references_dict, hypotheses_dict)\n",
        "\n",
        "    outputs_1 = outputs.view(-1, vocab_size)\n",
        "    labels_1 = labels.view(-1)\n",
        "    mask = labels_1 != padding_values\n",
        "\n",
        "    outputs_2 = outputs_1[mask]\n",
        "    labels_2 = labels_1[mask]\n",
        "\n",
        "    acc = (outputs_2.argmax(dim=-1) == labels_2).sum().item() / len(labels_2)\n",
        "\n",
        "    return [acc, bleu1_score, bleu2_score, bleu3_score, bleu4_score, rouge_score, meteor_score, cider_score]"
      ],
      "metadata": {
        "id": "UhCYwE_LzDjQ"
      },
      "execution_count": null,
      "outputs": []
    },
    {
      "cell_type": "code",
      "source": [
        "def train(model, train_dataloader, test_dataloader, criterion, optimizer, tokenizer, epochs, device='cpu'):\n",
        "\n",
        "  # Send model to device\n",
        "  model = model.to(device)\n",
        "\n",
        "  train_losses, test_losses = [], []\n",
        "  train_evals, test_evals = {'accuracy': [], 'bleu1': [], 'bleu2': [], 'bleu3': [], 'bleu4': [], 'rouge': [], 'meteor': [], 'cider': []}, {'accuracy': [], 'bleu1': [], 'bleu2': [], 'bleu3': [], 'bleu4': [], 'rouge': [], 'meteor': [], 'cider': []}\n",
        "\n",
        "  for epoch in range(epochs):\n",
        "\n",
        "    train_loss, test_loss = 0, 0\n",
        "    train_eval, test_eval = [], []\n",
        "    i = 0\n",
        "    k = len(train_dataloader)\n",
        "\n",
        "    ### Train ###\n",
        "    model.train()\n",
        "\n",
        "    for sample in tqdm(train_dataloader):\n",
        "\n",
        "      # Forwad pass\n",
        "      outputs = model(sample, device) # batch_size, T, vocab + ocr_tokens\n",
        "      loss = criterion(outputs.mT, sample['labels'].to(device))\n",
        "      optimizer.zero_grad() # Xóa cái optimizer ở vòng lặp trước\n",
        "\n",
        "      # Calculate loss per batch\n",
        "      train_loss += loss.item()\n",
        "      train_eval.append(compute_metrics(outputs, sample['labels'].to(device), 1, sample['raw_captions'], sample['texts'], tokenizer))\n",
        "\n",
        "      # Optimizer & Backward\n",
        "      loss.backward()\n",
        "      torch.nn.utils.clip_grad_norm_(model.parameters(), max_norm=1)\n",
        "\n",
        "      optimizer.step() # update weight\n",
        "      # scheduler.step()\n",
        "      i += 1\n",
        "      if i == round(k * 0.8):\n",
        "        for g in optimizer.param_groups:\n",
        "          g['lr'] *= 0.95\n",
        "\n",
        "\n",
        "    ### Evaluate ###\n",
        "    model.eval()\n",
        "    with torch.inference_mode():\n",
        "\n",
        "      for sample in tqdm(test_dataloader):\n",
        "\n",
        "        # Forward pass\n",
        "        outputs = model(sample, device) # batch_size, T, vocab + ocr_tokens\n",
        "        loss = criterion(outputs.mT, sample['labels'].to(device))\n",
        "\n",
        "        # Calculate loss per batch\n",
        "        test_loss += loss.item()\n",
        "        test_eval.append(compute_metrics(outputs, sample['labels'].to(device), 1, sample['raw_captions'], sample['texts'], tokenizer))\n",
        "\n",
        "    # Preprocess stuff\n",
        "    train_eval, test_eval = np.array(train_eval), np.array(test_eval)\n",
        "\n",
        "    # Save stuff\n",
        "    test_loss, train_loss = test_loss/len(test_dataloader), train_loss/len(train_dataloader)\n",
        "    train_acc, test_acc = train_eval[:, 0].mean(), test_eval[:, 0].mean()\n",
        "    train_bleu1, test_bleu1 = train_eval[:, 1].mean(), test_eval[:, 1].mean()\n",
        "    train_bleu2, test_bleu2 = train_eval[:, 2].mean(), test_eval[:, 2].mean()\n",
        "    train_bleu3, test_bleu3 = train_eval[:, 3].mean(), test_eval[:, 3].mean()\n",
        "    train_bleu4, test_bleu4 = train_eval[:, 4].mean(), test_eval[:, 4].mean()\n",
        "    train_rouge, test_rouge = train_eval[:, 5].mean(), test_eval[:, 5].mean()\n",
        "    train_meteor, test_meteor = train_eval[:, 6].mean(), test_eval[:, 6].mean()\n",
        "    train_cider, test_cider = train_eval[:, 7].mean(), test_eval[:, 7].mean()\n",
        "\n",
        "\n",
        "    train_losses.append(train_loss), test_losses.append(test_loss)\n",
        "    train_evals['accuracy'].append(train_acc), test_evals['accuracy'].append(test_acc)\n",
        "    train_evals['bleu1'].append(train_bleu1), test_evals['bleu1'].append(test_bleu1)\n",
        "    train_evals['bleu2'].append(train_bleu2), test_evals['bleu2'].append(test_bleu2)\n",
        "    train_evals['bleu3'].append(train_bleu3), test_evals['bleu3'].append(test_bleu3)\n",
        "    train_evals['bleu4'].append(train_bleu4), test_evals['bleu4'].append(test_bleu4)\n",
        "    train_evals['rouge'].append(train_rouge), test_evals['rouge'].append(test_rouge)\n",
        "    train_evals['meteor'].append(train_meteor), test_evals['meteor'].append(test_meteor)\n",
        "    train_evals['cider'].append(train_cider), test_evals['cider'].append(test_cider)\n",
        "\n",
        "    # Tracking the model\n",
        "    print(f'Epoch: {epoch}')\n",
        "    print(f'Train loss    : {train_loss:.4f}  | Test loss   : {test_loss:.4f}')\n",
        "    print(f'Train acc     : {train_acc:.4f}   | Test acc    : {test_acc:.4f}')\n",
        "    print(f'Train bleu1   : {train_bleu1:.4f} | Test bleu1  : {test_bleu1:.4f}')\n",
        "    print(f'Train bleu2   : {train_bleu2:.4f} | Test bleu2  : {test_bleu2:.4f}')\n",
        "    print(f'Train bleu3   : {train_bleu3:.4f} | Test bleu3  : {test_bleu3:.4f}')\n",
        "    print(f'Train bleu4   : {train_bleu4:.4f} | Test bleu4  : {test_bleu4:.4f}')\n",
        "    print(f'Train rouge   : {train_rouge:.4f} | Test rouge  : {test_rouge:.4f}')\n",
        "    print(f'Train meteor  : {train_meteor:.4f}| Test meteor : {test_meteor:.4f}')\n",
        "    print(f'Train cider   : {train_cider:.4f} | Test cider  : {test_cider:.4f}')\n",
        "\n",
        "  return train_losses, train_evals, test_losses, test_evals"
      ],
      "metadata": {
        "id": "1q-LJmNTujLR"
      },
      "execution_count": null,
      "outputs": []
    },
    {
      "cell_type": "code",
      "source": [
        "device = 'cuda' if torch.cuda.is_available() else 'cpu'\n",
        "device"
      ],
      "metadata": {
        "colab": {
          "base_uri": "https://localhost:8080/",
          "height": 36
        },
        "id": "IFxFv5aULQdT",
        "outputId": "9d5d81ee-cde2-417d-ba17-1e2fc633d919"
      },
      "execution_count": null,
      "outputs": [
        {
          "output_type": "execute_result",
          "data": {
            "text/plain": [
              "'cuda'"
            ],
            "application/vnd.google.colaboratory.intrinsic+json": {
              "type": "string"
            }
          },
          "metadata": {},
          "execution_count": 54
        }
      ]
    },
    {
      "cell_type": "code",
      "source": [
        "phobert_model.embeddings.word_embeddings.requires_grad = False\n",
        "fixed_ans_emb = phobert_model.embeddings.word_embeddings.weight\n",
        "model = M4C(obj_in_dim=2048,\n",
        "            ocr_in_dim=812,\n",
        "            hidden_size=768,\n",
        "            n_heads=12,\n",
        "            d_k=64,\n",
        "            n_layers=4,\n",
        "            vocab_size=tokenizer.vocab_size + 1,\n",
        "            fixed_ans_emb=fixed_ans_emb).to(device)"
      ],
      "metadata": {
        "id": "2WDVS48k0EGU"
      },
      "execution_count": null,
      "outputs": []
    },
    {
      "cell_type": "code",
      "source": [
        "def initialize_weights(m):\n",
        "    if hasattr(m, 'weight') and m.weight.dim() > 1:\n",
        "        nn.init.xavier_uniform_(m.weight.data)\n",
        "\n",
        "\n",
        "model.apply(initialize_weights);"
      ],
      "metadata": {
        "id": "obMc5437ml_b"
      },
      "execution_count": null,
      "outputs": []
    },
    {
      "cell_type": "code",
      "source": [
        "sample['labels'].shape"
      ],
      "metadata": {
        "colab": {
          "base_uri": "https://localhost:8080/"
        },
        "id": "O1f_uJp0BUd_",
        "outputId": "2fe02af2-db14-442b-b8dc-bf5a81de429b"
      },
      "execution_count": null,
      "outputs": [
        {
          "output_type": "execute_result",
          "data": {
            "text/plain": [
              "torch.Size([16, 69])"
            ]
          },
          "metadata": {},
          "execution_count": 17
        }
      ]
    },
    {
      "cell_type": "code",
      "source": [
        "output = model(sample, device)"
      ],
      "metadata": {
        "id": "ARTTROjMAP95"
      },
      "execution_count": null,
      "outputs": []
    },
    {
      "cell_type": "code",
      "source": [
        "compute_metrics(output, sample['labels'].to(device), 1, sample['raw_captions'], sample['texts'], tokenizer)"
      ],
      "metadata": {
        "colab": {
          "base_uri": "https://localhost:8080/"
        },
        "id": "MkPZMfnymD4c",
        "outputId": "69b90294-f584-422e-f140-10366e118d97"
      },
      "execution_count": null,
      "outputs": [
        {
          "output_type": "stream",
          "name": "stdout",
          "text": [
            "prediction: xuất minh đạng minh tượ@@ minh minh đồng_nhân_dân_tệ lẳng_lơ đạng 5.000\n",
            "ground-tru: cuốn sách giáo trình ứng dụng cntt cơ bản.\n"
          ]
        },
        {
          "output_type": "execute_result",
          "data": {
            "text/plain": [
              "[0.0018083182640144665,\n",
              " 0.03861788617886179,\n",
              " 0.006316210138631638,\n",
              " 0.0,\n",
              " 0.0,\n",
              " 0.2535431433022374,\n",
              " 0.03599275733510478,\n",
              " 0.02836859418755835]"
            ]
          },
          "metadata": {},
          "execution_count": 74
        }
      ]
    },
    {
      "cell_type": "code",
      "source": [],
      "metadata": {
        "id": "jbjnezTbn2Fg"
      },
      "execution_count": null,
      "outputs": []
    },
    {
      "cell_type": "code",
      "source": [
        "def loss_fn(outputs, labels, padding_value):\n",
        "\n",
        "  vocab_ocr_size = outputs.size(-1)\n",
        "  outputs_ = outputs.reshape(-1, vocab_ocr_size) # batch_size * seq_l, vocab + ocr size\n",
        "  labels_ = labels.reshape(-1) # batch_size * seq_l\n",
        "\n",
        "  mask = labels_ != padding_value\n",
        "\n",
        "  outputs_non_pad = outputs_[mask] # batch_size * seq_l - pad, vocab + ocr size\n",
        "  labels_non_pad = labels_[mask] # batch_size * seq_l - pad\n",
        "\n",
        "  # Use the original tensor as indices to select rows from the identity matrix\n",
        "  converted_labels = torch.zeros_like(outputs_non_pad) # batch_size * seq_l - pad, vocab + ocr size\n",
        "  converted_labels[torch.arange(len(labels_non_pad)), labels_non_pad] = 1\n",
        "\n",
        "  pos_weight = (converted_labels==0.).sum()/converted_labels.sum()\n",
        "  criterion = nn.BCEWithLogitsLoss(pos_weight=pos_weight, reduction='sum')\n",
        "\n",
        "  return criterion(outputs_non_pad, converted_labels)"
      ],
      "metadata": {
        "id": "b-vUe7E1-FvQ"
      },
      "execution_count": null,
      "outputs": []
    },
    {
      "cell_type": "code",
      "source": [
        "pytorch_total_params = sum(p.numel() for p in model.parameters())\n",
        "pytorch_total_params"
      ],
      "metadata": {
        "colab": {
          "base_uri": "https://localhost:8080/"
        },
        "id": "G24ZrbclmkUL",
        "outputId": "86952ded-46ba-4ba2-cba9-6853654f8e3a"
      },
      "execution_count": null,
      "outputs": [
        {
          "output_type": "execute_result",
          "data": {
            "text/plain": [
              "130120193"
            ]
          },
          "metadata": {},
          "execution_count": 51
        }
      ]
    },
    {
      "cell_type": "code",
      "source": [
        "device = 'cuda' if torch.cuda.is_available() else 'cpu'"
      ],
      "metadata": {
        "id": "ITCK_34NcHl1"
      },
      "execution_count": null,
      "outputs": []
    },
    {
      "cell_type": "code",
      "source": [
        "base_lr = 1e-4\n",
        "loss_function = lambda outputs, labels: loss_fn(outputs, labels, padding_value=1)\n",
        "optimizer = torch.optim.Adam(model.get_optimizer_parameters(base_lr), lr=base_lr)"
      ],
      "metadata": {
        "id": "XyD79Umez-6a"
      },
      "execution_count": null,
      "outputs": []
    },
    {
      "cell_type": "code",
      "source": [
        "train_losses, train_accies, test_losses, test_accies = train(model,\n",
        "                                                             train_dataloader,\n",
        "                                                             val_dataloader,\n",
        "                                                             loss_function,\n",
        "                                                             optimizer,\n",
        "                                                             tokenizer,\n",
        "                                                             epochs=50,\n",
        "                                                             device=device)"
      ],
      "metadata": {
        "id": "vzJQuwXuNPI_"
      },
      "execution_count": null,
      "outputs": []
    },
    {
      "cell_type": "code",
      "source": [
        "train_losses, train_accies, test_losses, test_accies = train(model,\n",
        "                                                             train_dataloader,\n",
        "                                                             val_dataloader,\n",
        "                                                             loss_function,\n",
        "                                                             optimizer,\n",
        "                                                             tokenizer,\n",
        "                                                             epochs=10,\n",
        "                                                             device=device)"
      ],
      "metadata": {
        "id": "NEzRzhVeDjdf"
      },
      "execution_count": null,
      "outputs": []
    },
    {
      "cell_type": "code",
      "source": [
        "train_losses, train_accies, test_losses, test_accies = train(model,\n",
        "                                                             train_dataloader,\n",
        "                                                             val_dataloader,\n",
        "                                                             criterion,\n",
        "                                                             optimizer,\n",
        "                                                             tokenizer,\n",
        "                                                             epochs=10,\n",
        "                                                             device=device)"
      ],
      "metadata": {
        "id": "LFW7y6jtnw5z"
      },
      "execution_count": null,
      "outputs": []
    },
    {
      "cell_type": "code",
      "source": [
        "train_losses, train_accies, test_losses, test_accies = train(model,\n",
        "                                                             train_dataloader,\n",
        "                                                             val_dataloader,\n",
        "                                                             criterion,\n",
        "                                                             optimizer,\n",
        "                                                             tokenizer,\n",
        "                                                             epochs=10,\n",
        "                                                             device=device)"
      ],
      "metadata": {
        "id": "x-8ZZYhtmBKk"
      },
      "execution_count": null,
      "outputs": []
    },
    {
      "cell_type": "code",
      "source": [
        "train_losses, train_accies, test_losses, test_accies = train(model,\n",
        "                                                             train_dataloader,\n",
        "                                                             val_dataloader,\n",
        "                                                             criterion,\n",
        "                                                             optimizer,\n",
        "                                                             tokenizer,\n",
        "                                                             epochs=10,\n",
        "                                                             device=device)"
      ],
      "metadata": {
        "id": "WooXhvCUzidt"
      },
      "execution_count": null,
      "outputs": []
    },
    {
      "cell_type": "markdown",
      "source": [
        "# Decoder"
      ],
      "metadata": {
        "id": "NP7_guybk3fz"
      }
    },
    {
      "cell_type": "code",
      "source": [
        "T = 16\n",
        "dec_size = 2"
      ],
      "metadata": {
        "id": "cEpqsO9jgume"
      },
      "execution_count": null,
      "outputs": []
    },
    {
      "cell_type": "code",
      "source": [
        "causal_mask = torch.tril(torch.ones(dec_size, dec_size))\n",
        "extend_causal_mask = torch.ones((T, T))\n",
        "extend_causal_mask[-dec_size:, -dec_size:] = causal_mask\n",
        "extend_causal_mask"
      ],
      "metadata": {
        "colab": {
          "base_uri": "https://localhost:8080/"
        },
        "id": "2--LEbkzhxBN",
        "outputId": "86575a19-6f93-4ff0-91bd-f14ed0c2626d"
      },
      "execution_count": null,
      "outputs": [
        {
          "output_type": "execute_result",
          "data": {
            "text/plain": [
              "tensor([[1., 1., 1., 1., 1., 1., 1., 1., 1., 1., 1., 1., 1., 1., 1., 1.],\n",
              "        [1., 1., 1., 1., 1., 1., 1., 1., 1., 1., 1., 1., 1., 1., 1., 1.],\n",
              "        [1., 1., 1., 1., 1., 1., 1., 1., 1., 1., 1., 1., 1., 1., 1., 1.],\n",
              "        [1., 1., 1., 1., 1., 1., 1., 1., 1., 1., 1., 1., 1., 1., 1., 1.],\n",
              "        [1., 1., 1., 1., 1., 1., 1., 1., 1., 1., 1., 1., 1., 1., 1., 1.],\n",
              "        [1., 1., 1., 1., 1., 1., 1., 1., 1., 1., 1., 1., 1., 1., 1., 1.],\n",
              "        [1., 1., 1., 1., 1., 1., 1., 1., 1., 1., 1., 1., 1., 1., 1., 1.],\n",
              "        [1., 1., 1., 1., 1., 1., 1., 1., 1., 1., 1., 1., 1., 1., 1., 1.],\n",
              "        [1., 1., 1., 1., 1., 1., 1., 1., 1., 1., 1., 1., 1., 1., 1., 1.],\n",
              "        [1., 1., 1., 1., 1., 1., 1., 1., 1., 1., 1., 1., 1., 1., 1., 1.],\n",
              "        [1., 1., 1., 1., 1., 1., 1., 1., 1., 1., 1., 1., 1., 1., 1., 1.],\n",
              "        [1., 1., 1., 1., 1., 1., 1., 1., 1., 1., 1., 1., 1., 1., 1., 1.],\n",
              "        [1., 1., 1., 1., 1., 1., 1., 1., 1., 1., 1., 1., 1., 1., 1., 1.],\n",
              "        [1., 1., 1., 1., 1., 1., 1., 1., 1., 1., 1., 1., 1., 1., 1., 1.],\n",
              "        [1., 1., 1., 1., 1., 1., 1., 1., 1., 1., 1., 1., 1., 1., 1., 0.],\n",
              "        [1., 1., 1., 1., 1., 1., 1., 1., 1., 1., 1., 1., 1., 1., 1., 1.]])"
            ]
          },
          "metadata": {},
          "execution_count": 32
        }
      ]
    },
    {
      "cell_type": "code",
      "source": [
        "causal_mask"
      ],
      "metadata": {
        "id": "HUFzEBpKiIAb",
        "outputId": "0333f7f1-201c-4d00-80be-d72728e1ff8c",
        "colab": {
          "base_uri": "https://localhost:8080/"
        }
      },
      "execution_count": null,
      "outputs": [
        {
          "output_type": "execute_result",
          "data": {
            "text/plain": [
              "tensor([[1.]])"
            ]
          },
          "metadata": {},
          "execution_count": 30
        }
      ]
    },
    {
      "cell_type": "code",
      "source": [],
      "metadata": {
        "id": "OVfKnP9jiMjq"
      },
      "execution_count": null,
      "outputs": []
    }
  ]
}